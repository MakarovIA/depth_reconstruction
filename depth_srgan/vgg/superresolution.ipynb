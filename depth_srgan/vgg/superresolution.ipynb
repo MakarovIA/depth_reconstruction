{
 "cells": [
  {
   "cell_type": "code",
   "execution_count": 1,
   "metadata": {},
   "outputs": [],
   "source": [
    "import os\n",
    "import numpy as np\n",
    "#import pickle\n",
    "%matplotlib inline\n",
    "from matplotlib import pyplot as plt\n",
    "#import seaborn as sns\n",
    "from skimage.filters import sobel_h, sobel_v\n",
    "from skimage.color import rgb2grey\n",
    "from skimage.transform import resize\n",
    "from skimage.filters import threshold_adaptive\n",
    "from skimage.exposure import rescale_intensity\n",
    "from utils.utils import *\n",
    "from utils.iterators import SynthiaIterator, FreiburgIterator, TUMIterator\n",
    "from utils.associate import associate, read_file_list\n",
    "import cv2"
   ]
  },
  {
   "cell_type": "code",
   "execution_count": 2,
   "metadata": {},
   "outputs": [],
   "source": [
    "#All paths are here\n",
    "#synthia_dataset = '/home/vladimir/external/data/SYNTHIA/SYNTHIA-SEQS-02-SOFTRAIN/'\n",
    "synthia_dataset = '/home/vladimir/Desktop/SYNTHIA/'\n",
    "#synthia_val = '/home/vladimir/Desktop/SYNTHIA-SEQS-02-SOFTRAIN/'\n",
    "synthia_val = '/run/media/vladimir/win_back/data/SYNTHIA/SYNTHIA-SEQS-06-SUMMER/'\n",
    "tum_dataset = '/home/vladimir/external/data/TUM/'\n",
    "driving_dataset = '/home/vladimir/Desktop/driving/'\n",
    "log_dir= '/home/vladimir/Yandex.Disk/train_log/'\n",
    "#visual_images_dir = '/home/vladimir/valimg/'\n",
    "val_synthia = '/home/vladimir/external/data/val_seq/'\n",
    "\n",
    "synthia_size = [187, 225]\n",
    "big_size = [1496, 1800]"
   ]
  },
  {
   "cell_type": "code",
   "execution_count": 3,
   "metadata": {
    "collapsed": true
   },
   "outputs": [],
   "source": [
    "def get_TUM_files(tum_dataset):\n",
    "    import os\n",
    "    from utils.associate import associate, read_file_list\n",
    "    timestamps = []\n",
    "    for parent, _, files in os.walk(tum_dataset):\n",
    "        rgb_path = ''\n",
    "        depth_path = ''\n",
    "        for fname in files:\n",
    "            if 'rgb.txt' in fname:\n",
    "                rgb_path = os.path.join(parent, fname)\n",
    "            if 'depth.txt' in fname:\n",
    "                depth_path = os.path.join(parent, fname)\n",
    "        if not any([rgb_path == '', depth_path == '']):\n",
    "            timestamps.append((rgb_path, depth_path))\n",
    "            \n",
    "    matches = [associate(l[0], l[1], 0, 0.02) for l in \n",
    "               [(read_file_list(stamp[0]), read_file_list(stamp[1])) for stamp in timestamps]]\n",
    "    \n",
    "    tum_rgb = []\n",
    "    tum_depth = []\n",
    "    for i,s in enumerate(timestamps):\n",
    "        dir_n = os.path.dirname(s[0])\n",
    "        tum_rgb.append([os.path.join(os.path.join(dir_n, \"rgb\"), \"{0:.6f}\".format(s[0]) + \".png\") \n",
    "                        for s in matches[i]])\n",
    "        tum_depth.append([os.path.join(os.path.join(dir_n, \"depth\"), \"{0:.6f}\".format(s[1]) + \".png\") \n",
    "                          for s in matches[i]])\n",
    "    flatten = lambda x: [item for l in x for item in l]\n",
    "    tum_rgb = flatten(tum_rgb)\n",
    "    tum_depth = flatten(tum_depth)\n",
    "    return tum_rgb, tum_depth"
   ]
  },
  {
   "cell_type": "code",
   "execution_count": 4,
   "metadata": {},
   "outputs": [],
   "source": [
    "driving_list = get_file_list(driving_dataset)\n",
    "driving_depth = filter_files(driving_list, ['left', 'forwards', 'pfm'])[:600]\n",
    "driving_rgb =  filter_files(driving_list, ['left', 'forwards', 'webp'])[:600]"
   ]
  },
  {
   "cell_type": "code",
   "execution_count": 5,
   "metadata": {},
   "outputs": [],
   "source": [
    "synthia_list = get_file_list(synthia_dataset)\n",
    "synthia_depth = filter_files(synthia_list, ['Stereo_Left', 'Depth', 'png'])\n",
    "synthia_rgb =  filter_files(synthia_list, ['Stereo_Left','RGB','png'])"
   ]
  },
  {
   "cell_type": "code",
   "execution_count": null,
   "metadata": {},
   "outputs": [],
   "source": [
    "#val_image_s = open_rgb(visual_images_dir + 'synthia_img.png')[None,:,:,:]\n",
    "#val_gt_s = open_depth_synthia(visual_images_dir + 'synthia_depth.png')[None]\n",
    "#val_image_d = open_rgb(visual_images_dir + 'driving_img.webp')[None,:,:,:]\n",
    "#val_gt_d = open_depth_freiburg(visual_images_dir + 'driving_depth.pfm')[None,:,:,:]\n",
    "val_gt_s = cv2.imread(r'/home/vladimir/MSG-Net/MSGNet-release/testing sets/A/Depth/art.png',cv2.IMREAD_ANYDEPTH)\n",
    "print(val_gt_s.shape)\n",
    "idx = np.where(val_gt_s == 0)\n",
    "val_gt_s_b = cv2.medianBlur(val_gt_s, 17)\n",
    "val_gt_s[idx] = val_gt_s_b[idx]\n",
    "val_gt_d = cv2.imread('/home/vladimir/middle/Dolls/disp1.png', cv2.IMREAD_ANYDEPTH)[:360, :440]\n",
    "idx = np.where(val_gt_d == 0)\n",
    "val_gt_d_b = cv2.medianBlur(val_gt_d, 19)\n",
    "val_gt_d[idx] = val_gt_d_b[idx]\n",
    "plt.matshow(val_gt_s)\n",
    "plt.matshow(val_gt_d)\n",
    "val_gt_s = val_gt_s[np.newaxis, ..., np.newaxis]\n",
    "val_gt_d = val_gt_d[np.newaxis, ..., np.newaxis]"
   ]
  },
  {
   "cell_type": "markdown",
   "metadata": {},
   "source": [
    "## NN"
   ]
  },
  {
   "cell_type": "code",
   "execution_count": 6,
   "metadata": {
    "collapsed": true
   },
   "outputs": [],
   "source": [
    "import tensorflow as tf\n"
   ]
  },
  {
   "cell_type": "code",
   "execution_count": 7,
   "metadata": {},
   "outputs": [],
   "source": [
    "from tensorflow.contrib import layers as l\n",
    "\n",
    "def drop(x, p, is_training=True):\n",
    "    noise_sh = [1,1,1,x.get_shape().as_list()[3]]\n",
    "    return l.dropout(x,p, is_training=is_training, noise_shape=noise_sh) \n",
    "\n",
    "\n",
    "def conv2d(in_tensor, out_dim, name='conv', kernel_sz=3, act=None, stride=1, bn=False):\n",
    "    with tf.variable_scope(name):\n",
    "        if bn:\n",
    "            norm = l.batch_norm\n",
    "            l_act=None\n",
    "        else:\n",
    "            norm = None\n",
    "            l_act=act\n",
    "        out = l.conv2d(in_tensor, \n",
    "                       num_outputs=out_dim, \n",
    "                       kernel_size=kernel_sz, \n",
    "                       stride=stride, \n",
    "                       normalizer_fn = norm, \n",
    "                       activation_fn=l_act, \n",
    "                       padding = 'SAME',\n",
    "                       normalizer_params={'activation_fn':act})\n",
    "    return out\n",
    "\n",
    "def projection_block(in_tensor, out_dim, name='conv', kernel_sz=3, act=None, stride=1, bn=False):\n",
    "        with tf.variable_scope(name):\n",
    "            if bn:\n",
    "                norm = l.batch_norm\n",
    "                l_act=None\n",
    "            else:\n",
    "                norm = None\n",
    "                l_act=act\n",
    "            out = l.conv2d(in_tensor, \n",
    "                           num_outputs=out_dim, \n",
    "                           kernel_size=kernel_sz, \n",
    "                           stride=stride, \n",
    "                           normalizer_fn = norm, \n",
    "                           activation_fn=l_act, \n",
    "                           padding = 'SAME',\n",
    "                           normalizer_params={'activation_fn':act})\n",
    "            out = l.conv2d(out, \n",
    "                           num_outputs=out_dim, \n",
    "                           kernel_size=kernel_sz, \n",
    "                           stride=stride, \n",
    "                           normalizer_fn = norm, \n",
    "                           activation_fn=l_act, \n",
    "                           padding = 'SAME',\n",
    "                           normalizer_params={'activation_fn':act})\n",
    "            proj = l.conv2d(in_tensor, \n",
    "                           num_outputs=out_dim, \n",
    "                           kernel_size= 1, \n",
    "                           stride=stride, \n",
    "                           normalizer_fn = norm, \n",
    "                           activation_fn=None, \n",
    "                           padding = 'SAME',\n",
    "                           normalizer_params={'activation_fn':None})\n",
    "        return out + proj\n",
    "    \n",
    "    \n",
    "    \n",
    "def downscale_block(in_tensor, out_dim, name='conv', kernel_sz=3, act=None, stride=2, bn=False):\n",
    "    with tf.variable_scope(name):\n",
    "        if bn:\n",
    "            norm = l.batch_norm\n",
    "            l_act=None\n",
    "        else:\n",
    "            norm = None\n",
    "            l_act=act\n",
    "        out = l.conv2d(in_tensor, \n",
    "                       num_outputs=out_dim, \n",
    "                       kernel_size=kernel_sz, \n",
    "                       stride=stride, \n",
    "                       normalizer_fn = norm, \n",
    "                       activation_fn=l_act, \n",
    "                       padding = 'SAME',\n",
    "                       normalizer_params={'activation_fn':act})\n",
    "        out = l.conv2d(out, \n",
    "                       num_outputs=out_dim, \n",
    "                       kernel_size=kernel_sz, \n",
    "                       stride=1, \n",
    "                       normalizer_fn = norm, \n",
    "                       activation_fn=l_act, \n",
    "                       padding = 'SAME',\n",
    "                       normalizer_params={'activation_fn':act})\n",
    "        proj = l.conv2d(in_tensor, \n",
    "                       num_outputs=out_dim, \n",
    "                       kernel_size=2, \n",
    "                       stride=stride, \n",
    "                       normalizer_fn = norm, \n",
    "                       activation_fn=None, \n",
    "                       padding = 'SAME',\n",
    "                       normalizer_params={'activation_fn':None})\n",
    "    return out + proj\n",
    "\n",
    "def downscale_pool(in_tensor, out_dim, name='conv', kernel_sz=3, act=None, stride=2, bn=False):\n",
    "    with tf.variable_scope(name):\n",
    "        if bn:\n",
    "            norm = l.batch_norm\n",
    "            l_act=None\n",
    "        else:\n",
    "            norm = None\n",
    "            l_act=act\n",
    "        out = l.conv2d(in_tensor, \n",
    "                       num_outputs=out_dim, \n",
    "                       kernel_size=kernel_sz, \n",
    "                       stride=stride, \n",
    "                       normalizer_fn = norm, \n",
    "                       activation_fn=l_act, \n",
    "                       padding = 'SAME',\n",
    "                       normalizer_params={'activation_fn':act})\n",
    "        out = l.conv2d(out, \n",
    "                       num_outputs=out_dim, \n",
    "                       kernel_size=kernel_sz, \n",
    "                       stride=1, \n",
    "                       normalizer_fn = norm, \n",
    "                       activation_fn=l_act, \n",
    "                       padding = 'SAME',\n",
    "                       normalizer_params={'activation_fn':act})\n",
    "        \n",
    "        down = l.avg_pool2d(in_tensor, 3, 2, padding='SAME')\n",
    "        proj = l.conv2d(down, \n",
    "                       num_outputs=out_dim, \n",
    "                       kernel_size=1, \n",
    "                       stride=1, \n",
    "                       normalizer_fn = norm, \n",
    "                       activation_fn=None, \n",
    "                       padding = 'SAME',\n",
    "                       normalizer_params={'activation_fn':None})\n",
    "    return out + proj   \n",
    "\n",
    "\n",
    "def residual_block(in_tensor, out_dim, name='conv', kernel_sz=3, act=None, stride=1, bn=False):\n",
    "        with tf.variable_scope(name):\n",
    "            if bn:\n",
    "                norm = l.batch_norm\n",
    "                l_act=None\n",
    "            else:\n",
    "                norm = None\n",
    "                l_act=act\n",
    "            out = l.conv2d(in_tensor, \n",
    "                           num_outputs=out_dim, \n",
    "                           kernel_size=kernel_sz, \n",
    "                           stride=stride, \n",
    "                           normalizer_fn = norm, \n",
    "                           activation_fn=l_act, \n",
    "                           padding = 'SAME',\n",
    "                           normalizer_params={'activation_fn':act})\n",
    "            out = l.conv2d(out, \n",
    "                           num_outputs=out_dim, \n",
    "                           kernel_size=kernel_sz, \n",
    "                           stride=stride, \n",
    "                           normalizer_fn = norm, \n",
    "                           activation_fn=l_act, \n",
    "                           padding = 'SAME',\n",
    "                           normalizer_params={'activation_fn':act})\n",
    "        return out + in_tensor\n",
    "\n",
    "\n",
    "def deconv2d(in_tensor, out_dim,  name='transposed_conv', kernel_sz=3, act=None, stride=1, bn=False):\n",
    "    with tf.variable_scope(name):\n",
    "        if bn:\n",
    "            norm = l.batch_norm\n",
    "            l_act=None\n",
    "        else:\n",
    "            norm = None\n",
    "            l_act=act\n",
    "        out = l.conv2d_transpose(in_tensor, \n",
    "                       num_outputs=out_dim, \n",
    "                       kernel_size=kernel_sz, \n",
    "                       stride=stride, \n",
    "                       normalizer_fn = norm, \n",
    "                       activation_fn=l_act, \n",
    "                       padding = 'SAME',\n",
    "                       normalizer_params={'activation_fn':act})\n",
    "\n",
    "    return out\n",
    "\n",
    "\n",
    "\n",
    "\n",
    "def dilated2d(in_tensor, out_dim,  name='dilated_conv', kernel_sz=3, act=None, dilation=1, bn=False):\n",
    "    with tf.variable_scope(name):\n",
    "        if bn:\n",
    "            norm = l.batch_norm\n",
    "            l_act=None\n",
    "        else:\n",
    "            norm = None\n",
    "            l_act=act\n",
    "        out = l.conv2d(in_tensor, \n",
    "                       num_outputs=out_dim, \n",
    "                       kernel_size=kernel_sz, \n",
    "                       rate=dilation, \n",
    "                       normalizer_fn = norm, \n",
    "                       activation_fn=l_act, \n",
    "                       padding = 'SAME',\n",
    "                       normalizer_params={'activation_fn':act})\n",
    "    return out\n",
    "\n",
    "def upproject(in_tensor, out_dim,  name='uproj_conv', kernel_sz=4, stride=2):\n",
    "    return deconv2d(in_tensor, out_dim, name, kernel_sz ,act=None, stride=stride, bn=False)\n",
    "\n",
    "def prelu(_x):\n",
    "    alphas = tf.get_variable('alpha', _x.get_shape()[-1],\n",
    "                       initializer=tf.constant_initializer(0.1),\n",
    "                        dtype=tf.float32)\n",
    "    pos = tf.nn.relu(_x)\n",
    "    neg = alphas * (_x - abs(_x)) * 0.5\n",
    "\n",
    "    return pos + neg"
   ]
  },
  {
   "cell_type": "code",
   "execution_count": 8,
   "metadata": {},
   "outputs": [],
   "source": [
    "tf.reset_default_graph()\n",
    "\n",
    "target = tf.placeholder(tf.float32, shape=(None,None,None, 1))\n",
    "d_flg = tf.placeholder(tf.bool)\n",
    "p = 0.8\n",
    "eps = tf.constant(1e-6)"
   ]
  },
  {
   "cell_type": "code",
   "execution_count": 52,
   "metadata": {},
   "outputs": [],
   "source": [
    "def preprocess(d_tensor, size_small, size_big):\n",
    "    \n",
    "    d_log = (d_tensor - tf.reduce_min(d_tensor)) / (tf.reduce_max(d_tensor)- \n",
    "                                                    tf.reduce_min(d_tensor))\n",
    "    d_log = d_log + tf.constant(1.)\n",
    "    d_small = tf.image.resize_images(d_log, size_small, method=tf.image.ResizeMethod.AREA)\n",
    "    d_upsampled = tf.image.resize_images(d_small, size_big, method=tf.image.ResizeMethod.BILINEAR)\n",
    "    #ground_truth = tf.image.resize_images(d_log, size_big, method=tf.image.ResizeMethod.BILINEAR)\n",
    "    ground_truth = d_log\n",
    "    \n",
    "    return ground_truth, d_small, d_upsampled"
   ]
  },
  {
   "cell_type": "code",
   "execution_count": 53,
   "metadata": {},
   "outputs": [],
   "source": [
    "y_true, d_input, interpolated = preprocess(target,  synthia_size, big_size)\n",
    "net = {}"
   ]
  },
  {
   "cell_type": "code",
   "execution_count": 54,
   "metadata": {},
   "outputs": [],
   "source": [
    "use_bn = False\n",
    "base_filters = 32"
   ]
  },
  {
   "cell_type": "code",
   "execution_count": 55,
   "metadata": {},
   "outputs": [],
   "source": [
    "\n",
    "net['gate'] = d_input\n",
    "with tf.variable_scope('G_Depth'):\n",
    "    net['conv1'] = conv2d(net['gate'], base_filters, 'convolution_1', kernel_sz=3, stride=1, act=tf.nn.elu)\n",
    "    net['conv2'] = projection_block(net['conv1'], base_filters*2, 'convolution_2', kernel_sz=3, act=tf.nn.elu)\n",
    "    net['drop1'] = drop(net['conv2'], p, is_training=d_flg)\n",
    "    net['conv3'] = residual_block(net['drop1'], base_filters*2, 'convolution_3', kernel_sz=3, act=tf.nn.elu)\n",
    "    net['conv4'] = residual_block(net['conv3'], base_filters*2, 'convolution_4', kernel_sz=3, act=tf.nn.elu)\n",
    "    net['drop2'] = drop(net['conv4'], p, is_training=d_flg)\n",
    "    net['conv5'] = residual_block(net['drop2'], base_filters*2, 'convolution_5', kernel_sz=3, act=tf.nn.elu)\n",
    "    net['conv6'] = residual_block(net['conv5'], base_filters*2, 'convolution_6', kernel_sz=3, act=tf.nn.elu)\n",
    "    net['drop3'] = drop(net['conv6'], p, is_training=d_flg)\n",
    "    net['conv7'] = conv2d(net['drop3'], base_filters*4, 'upconv_1',  stride=1, kernel_sz=3,act=tf.nn.elu)\n",
    "    net['uconv1'] = tf.depth_to_space(net['conv7'], 2)\n",
    "    net['conv8'] = conv2d(net['uconv1'], base_filters*2,'upconv_2',  stride=1, kernel_sz=3,act=tf.nn.elu)\n",
    "    net['uconv2'] = tf.depth_to_space(net['conv8'], 2)\n",
    "    net['conv9'] = deconv2d(net['uconv2'], base_filters,'upconv_3',  stride=1, kernel_sz=3,act=tf.nn.elu)\n",
    "    net['uconv3'] = tf.depth_to_space(net['conv9'], 2)\n",
    "    net['conv_out'] = conv2d(net['uconv3'], 1, 'convolution_out', kernel_sz=3, act=None, bn=False)\n",
    "G_output = net['conv_out'] + interpolated"
   ]
  },
  {
   "cell_type": "code",
   "execution_count": 27,
   "metadata": {},
   "outputs": [
    {
     "name": "stdout",
     "output_type": "stream",
     "text": [
      "npy file loaded\n",
      "npy file loaded\n"
     ]
    }
   ],
   "source": [
    "from vgg.VGG16 import VGG16\n",
    "vgg_model_true = VGG16(vgg16_npy_path='/home/vladimir/backup/Master/vgg/vgg16.npy')\n",
    "vgg_model_gen = VGG16(vgg16_npy_path='/home/vladimir/backup/Master/vgg/vgg16.npy')"
   ]
  },
  {
   "cell_type": "code",
   "execution_count": 28,
   "metadata": {},
   "outputs": [
    {
     "name": "stdout",
     "output_type": "stream",
     "text": [
      "build model started\n",
      "build model finished: 0s\n",
      "build model started\n",
      "build model finished: 0s\n"
     ]
    }
   ],
   "source": [
    "with tf.variable_scope('loss'):\n",
    "    #vgg loss\n",
    "    #exp_out = tf.exp(G_output)\n",
    "    #exp_true = tf.exp(y_true)\n",
    "    exp_out = G_output\n",
    "    exp_true = y_true\n",
    "    y_true_normalized = (exp_true - tf.reduce_min(exp_true))/(tf.reduce_max(exp_true) \n",
    "                                                              - tf.reduce_min(exp_true))\n",
    "    y_true_3ch = tf.concat([y_true_normalized]*3,3)\n",
    "    \n",
    "    gen_normalized = (exp_out - tf.reduce_min(exp_out))/(tf.reduce_max(exp_out) \n",
    "                                                         - tf.reduce_min(exp_out))\n",
    "    gen_normalized = (exp_out - tf.reduce_min(exp_out))/(tf.reduce_max(exp_out) \n",
    "                                                         - tf.reduce_min(exp_out))\n",
    "    generated_3ch = tf.concat([gen_normalized]*3, 3)\n",
    "    \n",
    "    vgg_model_true.build(y_true_3ch)\n",
    "    true_features = vgg_model_true.conv3_1\n",
    "    vgg_model_gen.build(generated_3ch)\n",
    "    gen_features = vgg_model_gen.conv3_1\n",
    "    VGG_loss = tf.reduce_mean(tf.square(true_features - gen_features))\n",
    "\n",
    "    #generator_loss\n",
    "    tv_loss = tf.reduce_mean(tf.square(G_output[:, :-1, :, :] - G_output[:, 1:, :, :])) + \\\n",
    "              tf.reduce_mean(tf.square(G_output[:, :, :-1, :] - G_output[:, :, 1:, :]))\n",
    "    #G_loss = tf.reduce_mean(tf.square(y_true - G_output)) \n",
    "    square_loss = tf.reduce_mean(tf.square(y_true - G_output))\n",
    "    G_loss = square_loss + 5e-5*VGG_loss + 2e-6*tv_loss\n",
    "    #G_loss = tf.reduce_mean(tf.square(y_true - G_output))\n",
    "    #GC_loss = tf.reduce_mean(tf.abs(tf.log(GC_output  + eps) - log_true))"
   ]
  },
  {
   "cell_type": "code",
   "execution_count": null,
   "metadata": {},
   "outputs": [],
   "source": [
    "with tf.variable_scope('opt'):\n",
    "    #optimizers\n",
    "    all_params = tf.trainable_variables()\n",
    "    first_stage = [p for p in all_params if 'G_Depth' in p.name]\n",
    "    lr = tf.placeholder(dtype=tf.float32)\n",
    "    train_G = tf.train.AdamOptimizer(lr).minimize(G_loss, var_list = first_stage)\n",
    "\n",
    " "
   ]
  },
  {
   "cell_type": "code",
   "execution_count": null,
   "metadata": {},
   "outputs": [],
   "source": [
    "with tf.variable_scope('summaries'):\n",
    "    loss = tf.summary.scalar('loss', G_loss)\n",
    "    mae = tf.reduce_mean(tf.abs(G_output-y_true)/(y_true + eps))\n",
    "    rmse = tf.sqrt(tf.reduce_mean(tf.square(G_output-y_true)))\n",
    "    mae_summary = tf.summary.scalar('MAE', mae)\n",
    "    in_summary = tf.summary.image('input', d_input , max_outputs=1)\n",
    "    out_summary = tf.summary.image('output',G_output, max_outputs=1)\n",
    "    gt_summary = tf.summary.image('gt_depth', y_true, max_outputs=1)\n",
    "    all_summaries = tf.summary.merge([mae_summary, in_summary, out_summary, loss])"
   ]
  },
  {
   "cell_type": "code",
   "execution_count": null,
   "metadata": {},
   "outputs": [],
   "source": [
    "\n",
    "log_prefix = '/home/vladimir/tflog/sr_fine_2'"
   ]
  },
  {
   "cell_type": "code",
   "execution_count": null,
   "metadata": {},
   "outputs": [],
   "source": [
    "\n",
    "sess = tf.InteractiveSession()\n",
    "ground_truths = tf.summary.FileWriter(logdir=os.path.join(log_prefix,'gt','s'))\n",
    "ground_truthd = tf.summary.FileWriter(logdir=os.path.join(log_prefix, 'gt','d'))\n",
    "writer_grads = tf.summary.FileWriter(logdir=os.path.join(log_prefix,'grad','s'))\n",
    "writer_gradd = tf.summary.FileWriter(logdir=os.path.join(log_prefix,'grad','d'))\n",
    "sess.run(tf.global_variables_initializer())"
   ]
  },
  {
   "cell_type": "code",
   "execution_count": null,
   "metadata": {
    "collapsed": true
   },
   "outputs": [],
   "source": [
    "from tqdm import tqdm"
   ]
  },
  {
   "cell_type": "code",
   "execution_count": null,
   "metadata": {
    "scrolled": false
   },
   "outputs": [],
   "source": [
    "\n",
    "batch_size=10\n",
    "epsi = 1e-6\n",
    "batch_size = 5\n",
    "d_rounds = 1\n",
    "epochs = 35\n",
    "n_batches= len(synthia_depth)/batch_size\n",
    "ground_truths.add_summary(gt_summary.eval({target:val_gt_s}))\n",
    "ground_truthd.add_summary(gt_summary.eval({target:val_gt_d}))\n",
    "i = 0\n",
    "rate =  [1e-4]*30 + [1e-5]*30 \n",
    "saver = tf.train.Saver()\n",
    "for e in range(epochs):\n",
    "    try:\n",
    "        val_loss = 0\n",
    "        val_b = len(driving_rgb)/batch_size\n",
    "        batch_it = tqdm(FreiburgIterator(driving_depth, \n",
    "                                        batchsize=batch_size, \n",
    "                                        shuffle=True, \n",
    "                                        buffer_size = 70), \n",
    "                        total=val_b, \n",
    "                        leave=False)\n",
    "\n",
    "        for b in batch_it:\n",
    "            xb = b[0]\n",
    "\n",
    "            ll = sess.run(mae, feed_dict={target:xb, d_flg:False,lr:0})\n",
    "            val_loss += ll\n",
    "        print(\"epoch {0} val loss {1}\".format(e - 1, val_loss/val_b))\n",
    "        \n",
    "        \n",
    "        mse_loss = 0\n",
    "        batch_it = tqdm(SynthiaIterator(synthia_depth, \n",
    "                                        batchsize=batch_size, \n",
    "                                        shuffle=True, \n",
    "                                        buffer_size = 70), \n",
    "                        total=n_batches, \n",
    "                        leave=False)\n",
    "\n",
    "        for b in batch_it:\n",
    "            xb = b[0]\n",
    "            aug = np.random.choice([0, 1])\n",
    "            if aug == 1:\n",
    "                xb = xb[:,:,::-1,:]\n",
    "            _, ll = sess.run([train_G, G_loss], feed_dict={target:xb, d_flg:True, lr:rate[e]})\n",
    "            mse_loss += ll\n",
    "            if (i + 1)%10 == 0:\n",
    "                sum_grad = all_summaries.eval({target:val_gt_s, d_flg:False})\n",
    "                writer_grads.add_summary(sum_grad, i)\n",
    "                sum_grad = all_summaries.eval({target:val_gt_d, d_flg:False})\n",
    "                writer_gradd.add_summary(sum_grad, i)\n",
    "            i += 1\n",
    "            if (i+1)%100 == 0 :\n",
    "                saver.save(sess, os.path.join(log_prefix,'model.ckpt'))\n",
    "        print(\"epoch {0} train loss {1}\".format(e, mse_loss/n_batches))\n",
    "        \n",
    "        \n",
    "    except Exception as e:\n",
    "        batch_it.iterable.stop()\n",
    "        raise e\n",
    "        break \n",
    "# save model after training\n",
    "sess.close()"
   ]
  },
  {
   "cell_type": "markdown",
   "metadata": {},
   "source": [
    "### Little blog"
   ]
  },
  {
   "cell_type": "code",
   "execution_count": 57,
   "metadata": {},
   "outputs": [],
   "source": [
    "sess = tf.InteractiveSession()   \n",
    "restorer = tf.train.Saver()\n",
    "restorer.restore(sess, tf.train.latest_checkpoint('/home/vladimir/tflog/sr_fine/'))\n",
    "\n"
   ]
  },
  {
   "cell_type": "markdown",
   "metadata": {
    "collapsed": true
   },
   "source": [
    "\n",
    "* Vanilla: dropout 0,7 standart convs only interpolation  1.15/0.38 at 7k iters\n",
    "* residual and projection blocks in both parts 1/0.41 at 7k iters\n",
    "* residual blocks in contracting part on grad + uni 1.02/0.4 at 7k\n",
    "* vanilla w/image 0.9/0.35 at 6k it\n",
    "* vanilla w grad training and img 0.57/0.33 at 4k\n",
    "* vanilla w grad training dropout 0.9 0.67/0.41 at 4k\n",
    "* vanilla no image vgg31 dropout 0.7 no grad 0.7 best\n",
    "* vanilla log input log out  loss/mae exp sigmoid out 0.26 /0.5 uni at 4k iters\n",
    "* vanilla ,log input log out , mae exp, linear out 0.33 /0.4 uni at 4k iters\n",
    "* vanilla, oracle mean substr, (logy - pred)^2 loss, linear out 0.38,0.39 uni at 2.5k\n",
    "* vanilla, patial mean, vgg31 exp loss, linear out, mae goes up but found objects\n",
    "* vanilla, partial mean, vgg31 + square loss, linear out, dropout p=0,7, 0.45/0.45 uni but vey good images\n",
    "* vanilla, grad input, partial mean, vgg21 + square loss, linear out, dropout p=0,6 0.45/0.38 at 5200\n",
    "* vanilla, image+uni 0.1, partial mean, vgg21 + square loss, linear out, dropout p=0,6 fail\n",
    "* vanilla, no bn sparse uni train \n",
    "* additional scale residual 0.29/0.19 on grad training\n",
    "* sum instead of cncat const worse"
   ]
  },
  {
   "cell_type": "markdown",
   "metadata": {
    "collapsed": true
   },
   "source": [
    "### Middlebury"
   ]
  },
  {
   "cell_type": "code",
   "execution_count": null,
   "metadata": {},
   "outputs": [],
   "source": [
    "def load_pfm(fname):\n",
    "    import re\n",
    "    color = None\n",
    "    width = None\n",
    "    height = None\n",
    "    scale = None\n",
    "    endian = None\n",
    "    with open(fname, mode='rb') as file:\n",
    "        header = file.readline().rstrip().decode('ascii')\n",
    "        if header == 'PF':\n",
    "            color = True    \n",
    "        elif header == 'Pf':\n",
    "            color = False\n",
    "        else:\n",
    "            raise Exception('Not a PFM file.')\n",
    "        dim_match = re.match(r'^(\\d+)\\s(\\d+)\\s$', file.readline().decode('ascii'))\n",
    "        if dim_match:\n",
    "            width, height = map(int, dim_match.groups())\n",
    "        else:\n",
    "            raise Exception('Malformed PFM header.')\n",
    "        scale = float(file.readline().rstrip().decode('ascii'))\n",
    "        if scale < 0: # little-endian\n",
    "            endian = '<'\n",
    "            scale = -scale\n",
    "        else:\n",
    "            endian = '>' # big-endian\n",
    "        data = np.fromfile(file, endian + 'f')\n",
    "        shape = (height, width, 3) if color else (height, width)\n",
    "        return np.reshape(data, shape)[::-1, :], scale\n",
    "    \n",
    "def open_middlebury_disp(fname):\n",
    "    d, _ = load_pfm(fname)\n",
    "    mask = np.isinf(d)\n",
    "    min_d = d.min()\n",
    "    max_d = d[np.logical_not(mask)].max()\n",
    "    d = (d - min_d) / (max_d - min_d) * 255\n",
    "    d[mask] = np.zeros_like(d)[mask]\n",
    "    idx = np.where(d == 0)\n",
    "    d_b = cv2.medianBlur(d.astype(np.uint8), 155)\n",
    "    d[idx] = d_b[idx]\n",
    "    d = cv2.resize(d, (2780, 1920))\n",
    "    d = d.astype(np.float32) * (max_d - min_d) + min_d\n",
    "    return d\n",
    "\n",
    "d = open_middlebury_disp('/home/vladimir/middle/Adirondack-perfect/disp0.pfm')\n",
    "plt.matshow(d)"
   ]
  },
  {
   "cell_type": "code",
   "execution_count": null,
   "metadata": {},
   "outputs": [],
   "source": [
    "test = ['Art', 'Books', 'Reindeer', 'Laundry', 'Dolls', 'Moebius']\n",
    "middlebury_path = '/home/vladimir/middle/'\n",
    "dirs = [os.path.join(middlebury_path, dirn) for dirn in os.listdir(middlebury_path) if dirn not in test]\n",
    "middelbury_fnames = [os.path.join(dirn, fname) for dirn in dirs for fname in os.listdir(dirn) if 'disp0.pfm' in fname]\n",
    "middlebury_train = np.zeros((len(middelbury_fnames), 1920, 2780, 1), dtype=np.float32)\n",
    "for i in range(len(middelbury_fnames)):\n",
    "    middlebury_train[i,...] = open_middlebury_disp(middelbury_fnames[i])[..., np.newaxis]"
   ]
  },
  {
   "cell_type": "code",
   "execution_count": null,
   "metadata": {},
   "outputs": [],
   "source": [
    "def get_batch_middlebury(X, crop_sz=(360, 440), batch_sz=5):\n",
    "    idx = np.random.choice(np.arange(len(X)), size=batch_sz, replace=False)\n",
    "    x_slice = X[idx]\n",
    "    row = np.random.randint(0, x_slice.shape[1] - crop_sz[0])\n",
    "    col = np.random.randint(0, x_slice.shape[2] - crop_sz[1])\n",
    "    x_slice = x_slice[:, row:row + crop_sz[0], col:col + crop_sz[1], :]\n",
    "    return x_slice\n",
    "\n",
    "for i in range(5):\n",
    "    xb = get_batch_middlebury(middlebury_train)\n",
    "    print(xb.shape)"
   ]
  },
  {
   "cell_type": "code",
   "execution_count": null,
   "metadata": {},
   "outputs": [],
   "source": [
    "train_loss = []\n",
    "n_iters = 10000\n",
    "rate =  [1e-4]*3 + [1e-5]*7 \n",
    "for i in range(n_iters):\n",
    "    xb = get_batch_middlebury(middlebury_train)\n",
    "    aug = np.random.choice([0, 1])\n",
    "    if aug == 1:\n",
    "        xb = xb[:,:,::-1,:]\n",
    "    _, l = sess.run([train_G, G_loss], feed_dict={target:xb, d_flg:True, lr:rate[int((i / 1000))]})\n",
    "    train_loss.append(l)\n",
    "    if (i + 1)%10 == 0:\n",
    "        sum_grad = all_summaries.eval({target:val_gt_s, d_flg:False})\n",
    "        writer_grads.add_summary(sum_grad, i)\n",
    "        sum_grad = all_summaries.eval({target:val_gt_d, d_flg:False})\n",
    "        writer_gradd.add_summary(sum_grad, i)\n",
    "    if (i+1)%1000 == 0 :\n",
    "        saver.save(sess, os.path.join(log_prefix,'model.ckpt'))\n",
    "print(\"epoch {0} train loss {1}\".format(e, np.mean(train_loss)))"
   ]
  },
  {
   "cell_type": "code",
   "execution_count": 18,
   "metadata": {},
   "outputs": [],
   "source": [
    "import cv2\n",
    "import imageio\n",
    "\n",
    "data = '/home/vladimir/middle/conesF/disp2.pgm'\n",
    "def to_show(img, to_colormap=True):\n",
    "    import seaborn as sns\n",
    "    \n",
    "    if to_colormap:\n",
    "        cmap = sns.cubehelix_palette(10, light=1, as_cmap=True,reverse=True)\n",
    "        norm = plt.Normalize(vmin=img.min(), vmax=img.max())\n",
    "        img = cmap(norm(img))[:,:,:-1]\n",
    "    #result = resize(img, (int(round(img.shape[0]/8)), int(round(img.shape[1]/8))), preserve_range=True)\n",
    "    result = img\n",
    "    return result"
   ]
  },
  {
   "cell_type": "code",
   "execution_count": 19,
   "metadata": {},
   "outputs": [],
   "source": [
    "def read_pgm(data):\n",
    "    \"\"\"Return a raster of integers from a PGM as a list of lists.\"\"\"\n",
    "    with open(data, mode='rb') as pgmf:\n",
    "        assert pgmf.readline().decode('ascii')== 'P5\\n'\n",
    "        (width, height) = [int(i) for i in pgmf.readline().decode('ascii').split()]\n",
    "        depth = int(pgmf.readline())\n",
    "        assert depth <= 255\n",
    "\n",
    "        raster = []\n",
    "        for y in range(height):\n",
    "            row = []\n",
    "            for y in range(width):\n",
    "                row.append(ord(pgmf.read(1)))\n",
    "            raster.append(row)\n",
    "        return raster"
   ]
  },
  {
   "cell_type": "code",
   "execution_count": 20,
   "metadata": {
    "collapsed": true
   },
   "outputs": [],
   "source": [
    "def norm_max(img):\n",
    "    return (img - img.min())/(img.max() - img.min())"
   ]
  },
  {
   "cell_type": "code",
   "execution_count": 21,
   "metadata": {
    "collapsed": true
   },
   "outputs": [],
   "source": [
    "def rmse(x, y):\n",
    "    return np.sqrt(((x - y)*(x - y)).mean())"
   ]
  },
  {
   "cell_type": "code",
   "execution_count": 63,
   "metadata": {},
   "outputs": [
    {
     "name": "stdout",
     "output_type": "stream",
     "text": [
      "(1496, 1800)\n",
      "lancoz ssim 0.9439730198661568 rmse 15.608999288681554 time 0.004325151443481445\n",
      "cubic ssim 0.9437389050734852 rmse 15.75356353852987 time 0.005725383758544922\n",
      "linear ssim 0.9645148839096646 rmse 8.31542587192037 time 0.0024454593658447266\n",
      "nearest ssim 0.9595349277470512 rmse 9.200833572880772 time 0.0040013790130615234\n",
      "our ssim 0.941595342051 our rmse 12.6856248906\n",
      "mean time 0.10450947284698486\n"
     ]
    }
   ],
   "source": [
    "from sklearn.metrics import mean_squared_error\n",
    "from skimage.measure import compare_ssim, compare_mse\n",
    "from scipy.io import loadmat\n",
    "from time import time\n",
    "import imageio\n",
    "disp = np.asarray(read_pgm(data), dtype=np.uint8)[:1496, :1800]\n",
    "print(disp.shape)\n",
    "idx = np.where(disp == 0)\n",
    "disp_b = cv2.medianBlur(disp, 11)\n",
    "disp[idx] = disp_b[idx]\n",
    "disp = disp.astype(np.float64)\n",
    "\n",
    "inters = {'linear': cv2.INTER_LINEAR,  'cubic':cv2.INTER_CUBIC, 'lancoz':cv2.INTER_LANCZOS4, \n",
    "          'nearest': cv2.INTER_NEAREST}\n",
    "times = []\n",
    "disp_small = cv2.resize(disp, tuple(synthia_size[::-1]), interpolation=cv2.INTER_AREA)\n",
    "for name ,inter in inters.items():\n",
    "    start = time()\n",
    "    out = sess.run(G_output, feed_dict={target:disp[None,:,:,None], d_flg:False})[0,:,:,0].astype(float)\n",
    "    times.append(time() - start)\n",
    "    trad_t = time()\n",
    "    int_trad = cv2.resize(disp_small, tuple(big_size[::-1]), interpolation=inter)\n",
    "    trad_t = time() - trad_t\n",
    "    out = norm_max(out)\n",
    "    int_trad = norm_max(int_trad)\n",
    "    d_n = norm_max(disp)\n",
    "    print('{} ssim {} rmse {} time {}'.format(name, compare_ssim(int_trad, d_n), rmse(int_trad * 255, d_n * 255), \n",
    "                                              trad_t))\n",
    "print('our ssim', compare_ssim(out, d_n), 'our rmse', rmse(out * 255, d_n * 255))\n",
    "print('mean time {}'.format(np.mean(times)))"
   ]
  },
  {
   "cell_type": "code",
   "execution_count": 59,
   "metadata": {},
   "outputs": [
    {
     "name": "stdout",
     "output_type": "stream",
     "text": [
      "0.959534927747\n",
      "9.20083357288\n"
     ]
    }
   ],
   "source": [
    "\n",
    "res = norm_max(int_trad.astype(np.float64)) \n",
    "disp = norm_max(disp) \n",
    "ss = compare_ssim(res, disp)\n",
    "mse = rmse(res * 255, disp * 255)\n",
    "print(ss)\n",
    "print(mse)"
   ]
  },
  {
   "cell_type": "code",
   "execution_count": 60,
   "metadata": {},
   "outputs": [
    {
     "data": {
      "text/plain": [
       "<matplotlib.image.AxesImage at 0x7f64d5fb2630>"
      ]
     },
     "execution_count": 60,
     "metadata": {},
     "output_type": "execute_result"
    },
    {
     "data": {
      "image/png": "[encoded data removed]",
      "text/plain": [
       "<matplotlib.figure.Figure at 0x7f64d6b79828>"
      ]
     },
     "metadata": {},
     "output_type": "display_data"
    }
   ],
   "source": [
    "plt.matshow(int_trad) "
   ]
  },
  {
   "cell_type": "code",
   "execution_count": 61,
   "metadata": {},
   "outputs": [
    {
     "data": {
      "text/plain": [
       "<matplotlib.image.AxesImage at 0x7f64d5fa3748>"
      ]
     },
     "execution_count": 61,
     "metadata": {},
     "output_type": "execute_result"
    },
    {
     "data": {
      "image/png": "[encoded data removed]",
      "text/plain": [
       "<matplotlib.figure.Figure at 0x7f64d6a6b208>"
      ]
     },
     "metadata": {},
     "output_type": "display_data"
    }
   ],
   "source": [
    "plt.matshow(out)"
   ]
  },
  {
   "cell_type": "code",
   "execution_count": 62,
   "metadata": {},
   "outputs": [
    {
     "data": {
      "text/plain": [
       "<matplotlib.image.AxesImage at 0x7f64d5f155f8>"
      ]
     },
     "execution_count": 62,
     "metadata": {},
     "output_type": "execute_result"
    },
    {
     "data": {
      "image/png": "[encoded data removed]",
      "text/plain": [
       "<matplotlib.figure.Figure at 0x7f64d5f33a58>"
      ]
     },
     "metadata": {},
     "output_type": "display_data"
    }
   ],
   "source": [
    "plt.matshow(disp)"
   ]
  },
  {
   "cell_type": "code",
   "execution_count": null,
   "metadata": {},
   "outputs": [],
   "source": [
    "mins = []\n",
    "maxes = []\n",
    "\n",
    "for d in synthia_depth:\n",
    "    mins.append(np.min(open_depth_synthia(d)))\n",
    "    maxes.append(np.max(open_depth_synthia(d)))\n",
    "    "
   ]
  },
  {
   "cell_type": "code",
   "execution_count": null,
   "metadata": {},
   "outputs": [],
   "source": [
    "np.max(maxes)"
   ]
  },
  {
   "cell_type": "code",
   "execution_count": null,
   "metadata": {},
   "outputs": [],
   "source": [
    "np.min(mins)"
   ]
  },
  {
   "cell_type": "code",
   "execution_count": null,
   "metadata": {},
   "outputs": [],
   "source": [
    "np.log(0.1)"
   ]
  },
  {
   "cell_type": "code",
   "execution_count": null,
   "metadata": {},
   "outputs": [],
   "source": [
    "print(cubic.shape)"
   ]
  },
  {
   "cell_type": "code",
   "execution_count": null,
   "metadata": {},
   "outputs": [],
   "source": [
    "print(disp.shape)"
   ]
  },
  {
   "cell_type": "code",
   "execution_count": null,
   "metadata": {},
   "outputs": [],
   "source": []
  },
  {
   "cell_type": "code",
   "execution_count": null,
   "metadata": {},
   "outputs": [],
   "source": []
  },
  {
   "cell_type": "code",
   "execution_count": null,
   "metadata": {},
   "outputs": [],
   "source": [
    "d.shape"
   ]
  },
  {
   "cell_type": "code",
   "execution_count": null,
   "metadata": {},
   "outputs": [],
   "source": [
    "inters.items()"
   ]
  },
  {
   "cell_type": "code",
   "execution_count": null,
   "metadata": {},
   "outputs": [],
   "source": [
    "type(disp)"
   ]
  },
  {
   "cell_type": "code",
   "execution_count": null,
   "metadata": {
    "collapsed": true
   },
   "outputs": [],
   "source": []
  }
 ],
 "metadata": {
  "kernelspec": {
   "display_name": "Python 3",
   "language": "python",
   "name": "python3"
  },
  "language_info": {
   "codemirror_mode": {
    "name": "ipython",
    "version": 3
   },
   "file_extension": ".py",
   "mimetype": "text/x-python",
   "name": "python",
   "nbconvert_exporter": "python",
   "pygments_lexer": "ipython3",
   "version": "3.6.2"
  }
 },
 "nbformat": 4,
 "nbformat_minor": 1
}
