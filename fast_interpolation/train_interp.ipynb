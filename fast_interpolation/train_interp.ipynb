{
 "cells": [
  {
   "cell_type": "code",
   "execution_count": 1,
   "metadata": {},
   "outputs": [
    {
     "name": "stderr",
     "output_type": "stream",
     "text": [
      "D:\\Python36\\lib\\site-packages\\h5py\\__init__.py:36: FutureWarning: Conversion of the second argument of issubdtype from `float` to `np.floating` is deprecated. In future, it will be treated as `np.float64 == np.dtype(float).type`.\n",
      "  from ._conv import register_converters as _register_converters\n"
     ]
    }
   ],
   "source": [
    "import os\n",
    "import numpy as np\n",
    "#import pickle\n",
    "%matplotlib inline\n",
    "from matplotlib import pyplot as plt\n",
    "#import seaborn as sns\n",
    "import tensorflow as tf\n",
    "from skimage.filters import sobel_h, sobel_v\n",
    "from skimage.color import rgb2grey\n",
    "from skimage.transform import resize\n",
    "from skimage.filters import threshold_adaptive\n",
    "from skimage.exposure import rescale_intensity\n",
    "from utils.utils import *\n",
    "from utils.iterators import SynthiaIterator, FreiburgIterator, TUMIterator\n",
    "from utils.associate import associate, read_file_list\n",
    "import tensorflow as tf\n",
    "from tqdm import tqdm\n",
    "from random import shuffle\n",
    "import random\n",
    "\n",
    "from models import interpolation_model"
   ]
  },
  {
   "cell_type": "code",
   "execution_count": 2,
   "metadata": {},
   "outputs": [],
   "source": [
    "#All paths are here\n",
    "#synthia_dataset = '/home/vladimir/external/data/SYNTHIA/SYNTHIA-SEQS-02-SOFTRAIN/'\n",
    "synthia_dataset = 'D:/Alice/Documents/depth_datasets/SYNTHIA/'\n",
    "synthia_val = 'D:/Alice/Documents/depth_datasets/SYNTHIA/SYNTHIA-SEQS-05-SPRING/'\n",
    "\n",
    "synthia_size=(480,  640)\n",
    "\n",
    "log_prefix = 'D:/Alice/Documents/deeplearning-semidense/out/test'\n",
    "\n",
    "vgg_npy_path = 'vgg/vgg16.npy'"
   ]
  },
  {
   "cell_type": "code",
   "execution_count": 3,
   "metadata": {},
   "outputs": [],
   "source": [
    "synthia_list = get_file_list(synthia_dataset)\n",
    "synthia_val_list = get_file_list(synthia_val)\n",
    "synthia_list = [f for f in synthia_list if f not in synthia_val_list]\n",
    "\n",
    "synthia_depth = filter_files(synthia_list, ['Stereo_Left', 'Depth', 'png'])\n",
    "synthia_rgb =  filter_files(synthia_list, ['Stereo_Left','RGB','png'])"
   ]
  },
  {
   "cell_type": "code",
   "execution_count": 4,
   "metadata": {},
   "outputs": [],
   "source": [
    "synthia_depth_val = filter_files(synthia_val_list, ['Stereo_Left', 'Depth', 'png'])\n",
    "synthia_rgb_val = filter_files(synthia_val_list, ['Stereo_Left', 'RGB', 'png'])"
   ]
  },
  {
   "cell_type": "code",
   "execution_count": 5,
   "metadata": {},
   "outputs": [
    {
     "name": "stdout",
     "output_type": "stream",
     "text": [
      "(760, 1280)\n",
      "uint16\n",
      "Train size 12972\n",
      "Validation size 1180\n"
     ]
    }
   ],
   "source": [
    "val_image_s = open_rgb(synthia_rgb_val[0])[None,:,:,:]\n",
    "val_gt_s = open_depth_synthia(synthia_depth_val[0], debug=True)[None]\n",
    "val_image_d = open_rgb(synthia_rgb_val[-1])[None,:,:,:]\n",
    "val_gt_d = open_depth_synthia(synthia_depth_val[-1])[None,:,:,:]\n",
    "\n",
    "print('Train size', len(synthia_rgb))\n",
    "print('Validation size', len(synthia_rgb_val))"
   ]
  },
  {
   "cell_type": "code",
   "execution_count": 78,
   "metadata": {},
   "outputs": [],
   "source": [
    "def augment_data(img, depth):\n",
    "    coin = tf.less(tf.random_uniform([], 0, 1.0), 0.5)\n",
    "    seed = random.random()\n",
    "    img = tf.cond(coin, lambda: tf.image.random_flip_left_right(img, seed = seed), \n",
    "                  lambda: tf.image.random_flip_up_down(img, seed=seed))\n",
    "    depth = tf.cond(coin, lambda: tf.image.random_flip_left_right(depth, seed = seed), \n",
    "                  lambda: tf.image.random_flip_up_down(depth, seed=seed))\n",
    "    return img, depth"
   ]
  },
  {
   "cell_type": "code",
   "execution_count": 79,
   "metadata": {},
   "outputs": [],
   "source": [
    "def input_parser(rgb_img_path, depth_path, size = synthia_size):\n",
    "    # read the img from file\n",
    "    img_file = tf.read_file(rgb_img_path)\n",
    "    img_decoded = tf.image.decode_image(img_file, channels=3)\n",
    "    img_decoded.set_shape([None, None, 3])\n",
    "    image_resized = tf.image.resize_images(img_decoded, size)\n",
    "    \n",
    "    depth_file = tf.read_file(depth_path)\n",
    "    depth_decoded = tf.image.decode_image(depth_file, channels=1)\n",
    "    depth_decoded.set_shape([None, None, 1])\n",
    "    depth_resized = tf.image.resize_images(depth_decoded, size)\n",
    "    \n",
    "    image_resized, depth_resized = augment_data(image_resized, depth_resized) \n",
    "\n",
    "    return image_resized, depth_resized\n",
    "\n"
   ]
  },
  {
   "cell_type": "code",
   "execution_count": 153,
   "metadata": {},
   "outputs": [],
   "source": [
    "tf.reset_default_graph()"
   ]
  },
  {
   "cell_type": "code",
   "execution_count": 154,
   "metadata": {},
   "outputs": [
    {
     "name": "stdout",
     "output_type": "stream",
     "text": [
      "(?, 480, 640, 3) (?, 480, 640, 1)\n"
     ]
    }
   ],
   "source": [
    "\n",
    "batch_size = 5\n",
    "input_size = synthia_size#tf.placeholder(tf.int32, shape = (1,2))\n",
    "\n",
    "with tf.device('/cpu:0'):\n",
    "    tr_data = tf.data.Dataset.from_tensor_slices((synthia_rgb,synthia_depth))\n",
    "    tr_data = tr_data.shuffle(buffer_size=512)\n",
    "    tr_data = tr_data.map(lambda x,y: input_parser(x,y, input_size))\n",
    "    tr_data = tr_data.batch(batch_size = batch_size)\n",
    "\n",
    "\n",
    "    val_data = tf.data.Dataset.from_tensor_slices((synthia_rgb_val,synthia_depth_val))\n",
    "    val_data = val_data.map(lambda x,y: input_parser(x,y, input_size))\n",
    "    val_data = val_data.batch(batch_size = batch_size)\n",
    "\n",
    "\n",
    "    iterator = tf.data.Iterator.from_structure(tr_data.output_types, tr_data.output_shapes)\n",
    "\n",
    "    next_element_rgb, next_element_d  = iterator.get_next()\n",
    "    next_element_rgb, next_element_d \n",
    "    print(next_element_rgb.shape, next_element_d.shape )\n",
    "\n",
    "    training_init_op = iterator.make_initializer(tr_data)\n",
    "    validation_init_op = iterator.make_initializer(val_data)"
   ]
  },
  {
   "cell_type": "code",
   "execution_count": 140,
   "metadata": {},
   "outputs": [
    {
     "ename": "ValueError",
     "evalue": "Fetch argument <tf.Tensor 'IteratorGetNext:0' shape=(?, 480, 640, ?) dtype=float32> cannot be interpreted as a Tensor. (Tensor Tensor(\"IteratorGetNext:0\", shape=(?, 480, 640, ?), dtype=float32) is not an element of this graph.)",
     "output_type": "error",
     "traceback": [
      "\u001b[1;31m---------------------------------------------------------------------------\u001b[0m",
      "\u001b[1;31mValueError\u001b[0m                                Traceback (most recent call last)",
      "\u001b[1;32mD:\\Python36\\lib\\site-packages\\tensorflow\\python\\client\\session.py\u001b[0m in \u001b[0;36m__init__\u001b[1;34m(self, fetches, contraction_fn)\u001b[0m\n\u001b[0;32m    276\u001b[0m         self._unique_fetches.append(ops.get_default_graph().as_graph_element(\n\u001b[1;32m--> 277\u001b[1;33m             fetch, allow_tensor=True, allow_operation=True))\n\u001b[0m\u001b[0;32m    278\u001b[0m       \u001b[1;32mexcept\u001b[0m \u001b[0mTypeError\u001b[0m \u001b[1;32mas\u001b[0m \u001b[0me\u001b[0m\u001b[1;33m:\u001b[0m\u001b[1;33m\u001b[0m\u001b[0m\n",
      "\u001b[1;32mD:\\Python36\\lib\\site-packages\\tensorflow\\python\\framework\\ops.py\u001b[0m in \u001b[0;36mas_graph_element\u001b[1;34m(self, obj, allow_tensor, allow_operation)\u001b[0m\n\u001b[0;32m   3322\u001b[0m     \u001b[1;32mwith\u001b[0m \u001b[0mself\u001b[0m\u001b[1;33m.\u001b[0m\u001b[0m_lock\u001b[0m\u001b[1;33m:\u001b[0m\u001b[1;33m\u001b[0m\u001b[0m\n\u001b[1;32m-> 3323\u001b[1;33m       \u001b[1;32mreturn\u001b[0m \u001b[0mself\u001b[0m\u001b[1;33m.\u001b[0m\u001b[0m_as_graph_element_locked\u001b[0m\u001b[1;33m(\u001b[0m\u001b[0mobj\u001b[0m\u001b[1;33m,\u001b[0m \u001b[0mallow_tensor\u001b[0m\u001b[1;33m,\u001b[0m \u001b[0mallow_operation\u001b[0m\u001b[1;33m)\u001b[0m\u001b[1;33m\u001b[0m\u001b[0m\n\u001b[0m\u001b[0;32m   3324\u001b[0m \u001b[1;33m\u001b[0m\u001b[0m\n",
      "\u001b[1;32mD:\\Python36\\lib\\site-packages\\tensorflow\\python\\framework\\ops.py\u001b[0m in \u001b[0;36m_as_graph_element_locked\u001b[1;34m(self, obj, allow_tensor, allow_operation)\u001b[0m\n\u001b[0;32m   3401\u001b[0m       \u001b[1;32mif\u001b[0m \u001b[0mobj\u001b[0m\u001b[1;33m.\u001b[0m\u001b[0mgraph\u001b[0m \u001b[1;32mis\u001b[0m \u001b[1;32mnot\u001b[0m \u001b[0mself\u001b[0m\u001b[1;33m:\u001b[0m\u001b[1;33m\u001b[0m\u001b[0m\n\u001b[1;32m-> 3402\u001b[1;33m         \u001b[1;32mraise\u001b[0m \u001b[0mValueError\u001b[0m\u001b[1;33m(\u001b[0m\u001b[1;34m\"Tensor %s is not an element of this graph.\"\u001b[0m \u001b[1;33m%\u001b[0m \u001b[0mobj\u001b[0m\u001b[1;33m)\u001b[0m\u001b[1;33m\u001b[0m\u001b[0m\n\u001b[0m\u001b[0;32m   3403\u001b[0m       \u001b[1;32mreturn\u001b[0m \u001b[0mobj\u001b[0m\u001b[1;33m\u001b[0m\u001b[0m\n",
      "\u001b[1;31mValueError\u001b[0m: Tensor Tensor(\"IteratorGetNext:0\", shape=(?, 480, 640, ?), dtype=float32) is not an element of this graph.",
      "\nDuring handling of the above exception, another exception occurred:\n",
      "\u001b[1;31mValueError\u001b[0m                                Traceback (most recent call last)",
      "\u001b[1;32m<ipython-input-140-ca837a3cbe41>\u001b[0m in \u001b[0;36m<module>\u001b[1;34m()\u001b[0m\n\u001b[0;32m      9\u001b[0m         \u001b[1;32mtry\u001b[0m\u001b[1;33m:\u001b[0m\u001b[1;33m\u001b[0m\u001b[0m\n\u001b[0;32m     10\u001b[0m \u001b[1;33m\u001b[0m\u001b[0m\n\u001b[1;32m---> 11\u001b[1;33m             \u001b[0melem\u001b[0m \u001b[1;33m=\u001b[0m \u001b[0msess\u001b[0m\u001b[1;33m.\u001b[0m\u001b[0mrun\u001b[0m\u001b[1;33m(\u001b[0m\u001b[0mnext_element\u001b[0m\u001b[1;33m)\u001b[0m\u001b[1;33m\u001b[0m\u001b[0m\n\u001b[0m\u001b[0;32m     12\u001b[0m             \u001b[0mplt\u001b[0m\u001b[1;33m.\u001b[0m\u001b[0mimshow\u001b[0m\u001b[1;33m(\u001b[0m\u001b[0melem\u001b[0m\u001b[1;33m[\u001b[0m\u001b[1;36m0\u001b[0m\u001b[1;33m]\u001b[0m\u001b[1;33m[\u001b[0m\u001b[1;36m1\u001b[0m\u001b[1;33m,\u001b[0m\u001b[1;33m:\u001b[0m\u001b[1;33m,\u001b[0m\u001b[1;33m:\u001b[0m\u001b[1;33m,\u001b[0m\u001b[1;33m:\u001b[0m\u001b[1;33m]\u001b[0m\u001b[1;33m/\u001b[0m\u001b[1;36m255\u001b[0m\u001b[1;33m)\u001b[0m\u001b[1;33m\u001b[0m\u001b[0m\n\u001b[0;32m     13\u001b[0m             \u001b[0mplt\u001b[0m\u001b[1;33m.\u001b[0m\u001b[0mmatshow\u001b[0m\u001b[1;33m(\u001b[0m\u001b[0melem\u001b[0m\u001b[1;33m[\u001b[0m\u001b[1;36m1\u001b[0m\u001b[1;33m]\u001b[0m\u001b[1;33m[\u001b[0m\u001b[1;36m1\u001b[0m\u001b[1;33m,\u001b[0m\u001b[1;33m:\u001b[0m\u001b[1;33m,\u001b[0m\u001b[1;33m:\u001b[0m\u001b[1;33m,\u001b[0m\u001b[1;36m0\u001b[0m\u001b[1;33m]\u001b[0m\u001b[1;33m)\u001b[0m\u001b[1;33m\u001b[0m\u001b[0m\n",
      "\u001b[1;32mD:\\Python36\\lib\\site-packages\\tensorflow\\python\\client\\session.py\u001b[0m in \u001b[0;36mrun\u001b[1;34m(self, fetches, feed_dict, options, run_metadata)\u001b[0m\n\u001b[0;32m    893\u001b[0m     \u001b[1;32mtry\u001b[0m\u001b[1;33m:\u001b[0m\u001b[1;33m\u001b[0m\u001b[0m\n\u001b[0;32m    894\u001b[0m       result = self._run(None, fetches, feed_dict, options_ptr,\n\u001b[1;32m--> 895\u001b[1;33m                          run_metadata_ptr)\n\u001b[0m\u001b[0;32m    896\u001b[0m       \u001b[1;32mif\u001b[0m \u001b[0mrun_metadata\u001b[0m\u001b[1;33m:\u001b[0m\u001b[1;33m\u001b[0m\u001b[0m\n\u001b[0;32m    897\u001b[0m         \u001b[0mproto_data\u001b[0m \u001b[1;33m=\u001b[0m \u001b[0mtf_session\u001b[0m\u001b[1;33m.\u001b[0m\u001b[0mTF_GetBuffer\u001b[0m\u001b[1;33m(\u001b[0m\u001b[0mrun_metadata_ptr\u001b[0m\u001b[1;33m)\u001b[0m\u001b[1;33m\u001b[0m\u001b[0m\n",
      "\u001b[1;32mD:\\Python36\\lib\\site-packages\\tensorflow\\python\\client\\session.py\u001b[0m in \u001b[0;36m_run\u001b[1;34m(self, handle, fetches, feed_dict, options, run_metadata)\u001b[0m\n\u001b[0;32m   1111\u001b[0m     \u001b[1;31m# Create a fetch handler to take care of the structure of fetches.\u001b[0m\u001b[1;33m\u001b[0m\u001b[1;33m\u001b[0m\u001b[0m\n\u001b[0;32m   1112\u001b[0m     fetch_handler = _FetchHandler(\n\u001b[1;32m-> 1113\u001b[1;33m         self._graph, fetches, feed_dict_tensor, feed_handles=feed_handles)\n\u001b[0m\u001b[0;32m   1114\u001b[0m \u001b[1;33m\u001b[0m\u001b[0m\n\u001b[0;32m   1115\u001b[0m     \u001b[1;31m# Run request and get response.\u001b[0m\u001b[1;33m\u001b[0m\u001b[1;33m\u001b[0m\u001b[0m\n",
      "\u001b[1;32mD:\\Python36\\lib\\site-packages\\tensorflow\\python\\client\\session.py\u001b[0m in \u001b[0;36m__init__\u001b[1;34m(self, graph, fetches, feeds, feed_handles)\u001b[0m\n\u001b[0;32m    418\u001b[0m     \"\"\"\n\u001b[0;32m    419\u001b[0m     \u001b[1;32mwith\u001b[0m \u001b[0mgraph\u001b[0m\u001b[1;33m.\u001b[0m\u001b[0mas_default\u001b[0m\u001b[1;33m(\u001b[0m\u001b[1;33m)\u001b[0m\u001b[1;33m:\u001b[0m\u001b[1;33m\u001b[0m\u001b[0m\n\u001b[1;32m--> 420\u001b[1;33m       \u001b[0mself\u001b[0m\u001b[1;33m.\u001b[0m\u001b[0m_fetch_mapper\u001b[0m \u001b[1;33m=\u001b[0m \u001b[0m_FetchMapper\u001b[0m\u001b[1;33m.\u001b[0m\u001b[0mfor_fetch\u001b[0m\u001b[1;33m(\u001b[0m\u001b[0mfetches\u001b[0m\u001b[1;33m)\u001b[0m\u001b[1;33m\u001b[0m\u001b[0m\n\u001b[0m\u001b[0;32m    421\u001b[0m     \u001b[0mself\u001b[0m\u001b[1;33m.\u001b[0m\u001b[0m_fetches\u001b[0m \u001b[1;33m=\u001b[0m \u001b[1;33m[\u001b[0m\u001b[1;33m]\u001b[0m\u001b[1;33m\u001b[0m\u001b[0m\n\u001b[0;32m    422\u001b[0m     \u001b[0mself\u001b[0m\u001b[1;33m.\u001b[0m\u001b[0m_targets\u001b[0m \u001b[1;33m=\u001b[0m \u001b[1;33m[\u001b[0m\u001b[1;33m]\u001b[0m\u001b[1;33m\u001b[0m\u001b[0m\n",
      "\u001b[1;32mD:\\Python36\\lib\\site-packages\\tensorflow\\python\\client\\session.py\u001b[0m in \u001b[0;36mfor_fetch\u001b[1;34m(fetch)\u001b[0m\n\u001b[0;32m    238\u001b[0m     \u001b[1;32melif\u001b[0m \u001b[0misinstance\u001b[0m\u001b[1;33m(\u001b[0m\u001b[0mfetch\u001b[0m\u001b[1;33m,\u001b[0m \u001b[1;33m(\u001b[0m\u001b[0mlist\u001b[0m\u001b[1;33m,\u001b[0m \u001b[0mtuple\u001b[0m\u001b[1;33m)\u001b[0m\u001b[1;33m)\u001b[0m\u001b[1;33m:\u001b[0m\u001b[1;33m\u001b[0m\u001b[0m\n\u001b[0;32m    239\u001b[0m       \u001b[1;31m# NOTE(touts): This is also the code path for namedtuples.\u001b[0m\u001b[1;33m\u001b[0m\u001b[1;33m\u001b[0m\u001b[0m\n\u001b[1;32m--> 240\u001b[1;33m       \u001b[1;32mreturn\u001b[0m \u001b[0m_ListFetchMapper\u001b[0m\u001b[1;33m(\u001b[0m\u001b[0mfetch\u001b[0m\u001b[1;33m)\u001b[0m\u001b[1;33m\u001b[0m\u001b[0m\n\u001b[0m\u001b[0;32m    241\u001b[0m     \u001b[1;32melif\u001b[0m \u001b[0misinstance\u001b[0m\u001b[1;33m(\u001b[0m\u001b[0mfetch\u001b[0m\u001b[1;33m,\u001b[0m \u001b[0mdict\u001b[0m\u001b[1;33m)\u001b[0m\u001b[1;33m:\u001b[0m\u001b[1;33m\u001b[0m\u001b[0m\n\u001b[0;32m    242\u001b[0m       \u001b[1;32mreturn\u001b[0m \u001b[0m_DictFetchMapper\u001b[0m\u001b[1;33m(\u001b[0m\u001b[0mfetch\u001b[0m\u001b[1;33m)\u001b[0m\u001b[1;33m\u001b[0m\u001b[0m\n",
      "\u001b[1;32mD:\\Python36\\lib\\site-packages\\tensorflow\\python\\client\\session.py\u001b[0m in \u001b[0;36m__init__\u001b[1;34m(self, fetches)\u001b[0m\n\u001b[0;32m    345\u001b[0m     \"\"\"\n\u001b[0;32m    346\u001b[0m     \u001b[0mself\u001b[0m\u001b[1;33m.\u001b[0m\u001b[0m_fetch_type\u001b[0m \u001b[1;33m=\u001b[0m \u001b[0mtype\u001b[0m\u001b[1;33m(\u001b[0m\u001b[0mfetches\u001b[0m\u001b[1;33m)\u001b[0m\u001b[1;33m\u001b[0m\u001b[0m\n\u001b[1;32m--> 347\u001b[1;33m     \u001b[0mself\u001b[0m\u001b[1;33m.\u001b[0m\u001b[0m_mappers\u001b[0m \u001b[1;33m=\u001b[0m \u001b[1;33m[\u001b[0m\u001b[0m_FetchMapper\u001b[0m\u001b[1;33m.\u001b[0m\u001b[0mfor_fetch\u001b[0m\u001b[1;33m(\u001b[0m\u001b[0mfetch\u001b[0m\u001b[1;33m)\u001b[0m \u001b[1;32mfor\u001b[0m \u001b[0mfetch\u001b[0m \u001b[1;32min\u001b[0m \u001b[0mfetches\u001b[0m\u001b[1;33m]\u001b[0m\u001b[1;33m\u001b[0m\u001b[0m\n\u001b[0m\u001b[0;32m    348\u001b[0m     \u001b[0mself\u001b[0m\u001b[1;33m.\u001b[0m\u001b[0m_unique_fetches\u001b[0m\u001b[1;33m,\u001b[0m \u001b[0mself\u001b[0m\u001b[1;33m.\u001b[0m\u001b[0m_value_indices\u001b[0m \u001b[1;33m=\u001b[0m \u001b[0m_uniquify_fetches\u001b[0m\u001b[1;33m(\u001b[0m\u001b[0mself\u001b[0m\u001b[1;33m.\u001b[0m\u001b[0m_mappers\u001b[0m\u001b[1;33m)\u001b[0m\u001b[1;33m\u001b[0m\u001b[0m\n\u001b[0;32m    349\u001b[0m \u001b[1;33m\u001b[0m\u001b[0m\n",
      "\u001b[1;32mD:\\Python36\\lib\\site-packages\\tensorflow\\python\\client\\session.py\u001b[0m in \u001b[0;36m<listcomp>\u001b[1;34m(.0)\u001b[0m\n\u001b[0;32m    345\u001b[0m     \"\"\"\n\u001b[0;32m    346\u001b[0m     \u001b[0mself\u001b[0m\u001b[1;33m.\u001b[0m\u001b[0m_fetch_type\u001b[0m \u001b[1;33m=\u001b[0m \u001b[0mtype\u001b[0m\u001b[1;33m(\u001b[0m\u001b[0mfetches\u001b[0m\u001b[1;33m)\u001b[0m\u001b[1;33m\u001b[0m\u001b[0m\n\u001b[1;32m--> 347\u001b[1;33m     \u001b[0mself\u001b[0m\u001b[1;33m.\u001b[0m\u001b[0m_mappers\u001b[0m \u001b[1;33m=\u001b[0m \u001b[1;33m[\u001b[0m\u001b[0m_FetchMapper\u001b[0m\u001b[1;33m.\u001b[0m\u001b[0mfor_fetch\u001b[0m\u001b[1;33m(\u001b[0m\u001b[0mfetch\u001b[0m\u001b[1;33m)\u001b[0m \u001b[1;32mfor\u001b[0m \u001b[0mfetch\u001b[0m \u001b[1;32min\u001b[0m \u001b[0mfetches\u001b[0m\u001b[1;33m]\u001b[0m\u001b[1;33m\u001b[0m\u001b[0m\n\u001b[0m\u001b[0;32m    348\u001b[0m     \u001b[0mself\u001b[0m\u001b[1;33m.\u001b[0m\u001b[0m_unique_fetches\u001b[0m\u001b[1;33m,\u001b[0m \u001b[0mself\u001b[0m\u001b[1;33m.\u001b[0m\u001b[0m_value_indices\u001b[0m \u001b[1;33m=\u001b[0m \u001b[0m_uniquify_fetches\u001b[0m\u001b[1;33m(\u001b[0m\u001b[0mself\u001b[0m\u001b[1;33m.\u001b[0m\u001b[0m_mappers\u001b[0m\u001b[1;33m)\u001b[0m\u001b[1;33m\u001b[0m\u001b[0m\n\u001b[0;32m    349\u001b[0m \u001b[1;33m\u001b[0m\u001b[0m\n",
      "\u001b[1;32mD:\\Python36\\lib\\site-packages\\tensorflow\\python\\client\\session.py\u001b[0m in \u001b[0;36mfor_fetch\u001b[1;34m(fetch)\u001b[0m\n\u001b[0;32m    246\u001b[0m         \u001b[1;32mif\u001b[0m \u001b[0misinstance\u001b[0m\u001b[1;33m(\u001b[0m\u001b[0mfetch\u001b[0m\u001b[1;33m,\u001b[0m \u001b[0mtensor_type\u001b[0m\u001b[1;33m)\u001b[0m\u001b[1;33m:\u001b[0m\u001b[1;33m\u001b[0m\u001b[0m\n\u001b[0;32m    247\u001b[0m           \u001b[0mfetches\u001b[0m\u001b[1;33m,\u001b[0m \u001b[0mcontraction_fn\u001b[0m \u001b[1;33m=\u001b[0m \u001b[0mfetch_fn\u001b[0m\u001b[1;33m(\u001b[0m\u001b[0mfetch\u001b[0m\u001b[1;33m)\u001b[0m\u001b[1;33m\u001b[0m\u001b[0m\n\u001b[1;32m--> 248\u001b[1;33m           \u001b[1;32mreturn\u001b[0m \u001b[0m_ElementFetchMapper\u001b[0m\u001b[1;33m(\u001b[0m\u001b[0mfetches\u001b[0m\u001b[1;33m,\u001b[0m \u001b[0mcontraction_fn\u001b[0m\u001b[1;33m)\u001b[0m\u001b[1;33m\u001b[0m\u001b[0m\n\u001b[0m\u001b[0;32m    249\u001b[0m     \u001b[1;31m# Did not find anything.\u001b[0m\u001b[1;33m\u001b[0m\u001b[1;33m\u001b[0m\u001b[0m\n\u001b[0;32m    250\u001b[0m     raise TypeError('Fetch argument %r has invalid type %r' %\n",
      "\u001b[1;32mD:\\Python36\\lib\\site-packages\\tensorflow\\python\\client\\session.py\u001b[0m in \u001b[0;36m__init__\u001b[1;34m(self, fetches, contraction_fn)\u001b[0m\n\u001b[0;32m    282\u001b[0m       \u001b[1;32mexcept\u001b[0m \u001b[0mValueError\u001b[0m \u001b[1;32mas\u001b[0m \u001b[0me\u001b[0m\u001b[1;33m:\u001b[0m\u001b[1;33m\u001b[0m\u001b[0m\n\u001b[0;32m    283\u001b[0m         raise ValueError('Fetch argument %r cannot be interpreted as a '\n\u001b[1;32m--> 284\u001b[1;33m                          'Tensor. (%s)' % (fetch, str(e)))\n\u001b[0m\u001b[0;32m    285\u001b[0m       \u001b[1;32mexcept\u001b[0m \u001b[0mKeyError\u001b[0m \u001b[1;32mas\u001b[0m \u001b[0me\u001b[0m\u001b[1;33m:\u001b[0m\u001b[1;33m\u001b[0m\u001b[0m\n\u001b[0;32m    286\u001b[0m         raise ValueError('Fetch argument %r cannot be interpreted as a '\n",
      "\u001b[1;31mValueError\u001b[0m: Fetch argument <tf.Tensor 'IteratorGetNext:0' shape=(?, 480, 640, ?) dtype=float32> cannot be interpreted as a Tensor. (Tensor Tensor(\"IteratorGetNext:0\", shape=(?, 480, 640, ?), dtype=float32) is not an element of this graph.)"
     ]
    }
   ],
   "source": [
    "with tf.Session() as sess:\n",
    "\n",
    "    # initialize the iterator on the training data\n",
    "    sess.run(training_init_op)\n",
    "\n",
    "    # get each element of the training dataset until the end is reached\n",
    "    i = 0\n",
    "    while i<5:\n",
    "        try:\n",
    "           \n",
    "            elem = sess.run(next_element)\n",
    "            plt.imshow(elem[0][1,:,:,:]/255)\n",
    "            plt.matshow(elem[1][1,:,:,0])\n",
    "            print(elem[0].shape)\n",
    "            plt.figure()\n",
    "            i+=1\n",
    "        except tf.errors.OutOfRangeError:\n",
    "            print(\"End of training dataset.\")\n",
    "            break"
   ]
  },
  {
   "cell_type": "code",
   "execution_count": 141,
   "metadata": {},
   "outputs": [],
   "source": [
    "def preprocess_depth(d_tensor, mask_tensor, size):\n",
    "    eps = tf.constant(1e-2)\n",
    "    maxi = tf.constant(1e4)\n",
    "\n",
    "    d_cl = tf.clip_by_value(d_tensor, eps, maxi)\n",
    "    d_log = tf.log(d_cl + 1.)\n",
    "    \n",
    "    masked = ground_truth * mask_tensor[:, :]\n",
    "    nonzero = tf.cast(tf.count_nonzero(masked, axis=(1, 2), keep_dims=True), tf.float32)\n",
    "    masked_sum = tf.reduce_sum(masked, axis=(1, 2), keep_dims=True)\n",
    "    mean_d = masked_sum / nonzero\n",
    "    \n",
    "    masked_centered = masked - mean_d\n",
    "\n",
    "    return ground_truth, masked_centered, mean_d\n",
    "\n",
    "\n",
    "def preprocess_rgb(rgb_tensor, size):\n",
    "    greyscale = rgb_res[:, :, :, 0] * 0.2989 + rgb_res[:, :, :, 1] * 0.5870 + rgb_res[:, :, :, 2] * 0.1140\n",
    "    greyscale = greyscale[:, :, :, None]\n",
    "    g_min = tf.reduce_min(greyscale, axis=(1, 2), keep_dims=True)\n",
    "    g_max = tf.reduce_max(greyscale, axis=(1, 2), keep_dims=True)\n",
    "    g_normed = (greyscale - g_min) / (g_max - g_min)\n",
    "    g_out = g_normed - tf.reduce_mean(g_normed, axis=(1, 2), keep_dims=True)\n",
    "\n",
    "    return g_out"
   ]
  },
  {
   "cell_type": "code",
   "execution_count": 142,
   "metadata": {},
   "outputs": [],
   "source": [
    "def threshold_mask(img, sz, t):\n",
    "    img_rescaled = ((img - img.min(axis=(0,1)))/(img.max(axis=(0,1)) - img.min(axis=(0,1))) - 0.5)*2\n",
    "    grey = rgb2grey(img_rescaled) \n",
    "    grey_resized = resize(grey, sz, preserve_range=True)\n",
    "    grad = np.sqrt(sobel_h(grey_resized)**2 + sobel_v(grey_resized)**2)\n",
    "    thr = threshold_adaptive(grad, t, method='mean')\n",
    "    return thr.astype(int)[None, :,:, None]\n",
    "\n",
    "def combined_mask(img, sz, combined=True):\n",
    "    import cv2\n",
    "    resized = cv2.resize(img.astype(np.uint8), tuple(sz[::-1]))\n",
    "    blurred = cv2.GaussianBlur(resized, (5, 5), 0.2)\n",
    "    grey = cv2.cvtColor(blurred, cv2.COLOR_RGB2GRAY)\n",
    "    grad_x = cv2.Sobel(grey, cv2.CV_16S, 1, 0).astype(float)\n",
    "    grad_y = cv2.Sobel(grey, cv2.CV_16S, 0, 1).astype(float)\n",
    "    grad = np.sqrt(np.square(grad_x) + np.square(grad_y))\n",
    "    grad = np.round((grad - grad.min())/(grad.max() - grad.min())*255).astype(np.uint8)\n",
    "    grad_thr = cv2.adaptiveThreshold(grad,np.max(grad),cv2.ADAPTIVE_THRESH_MEAN_C, cv2.THRESH_BINARY, 5, 11\n",
    "                                    )\n",
    "    grad_thr = (grad_thr - grad_thr.min())/(grad_thr.max() - grad_thr.min())\n",
    "    grad_thr = np.ones(grad_thr.shape, dtype=np.float32) - grad_thr.astype(np.float32) \n",
    "    random = np.random.choice([0, 1],size=sz, p=[1 - 0.05, 0.05])\n",
    "    if combined:\n",
    "        grad_thr = np.clip(grad_thr + random, 0, 1)\n",
    "    else:\n",
    "        grad_thr = np.clip(grad_thr, 0, 1)\n",
    "    return grad_thr.astype(int)[None, :, :, None]\n",
    "\n",
    "\n",
    "def get_grad_mask(img, sz, combined=True, t=57):\n",
    "    shape = img.shape\n",
    "    bs = img.shape[0]\n",
    "    #return np.concatenate([threshold_mask(img[i,:,:,:], sz,t) for i in range(bs)])\n",
    "    return np.concatenate([combined_mask(img[i,:,:,:], sz, combined=combined) for i in range(bs)])\n",
    "\n",
    "def get_mask(sz, p):\n",
    "\n",
    "    mask = np.random.choice([0,1],size=sz, p=[1 - p, p])[None,:,:,None]\n",
    "    return mask\n",
    "\n",
    "\n",
    "def get_regular_grid_mask(sz, step = 7):\n",
    "    z = np.zeros((1, *sz, 1))\n",
    "    z[:,::step,::step,:] = 1\n",
    "    return z\n",
    "\n",
    "def predict(sess, G_output, batch_d, batch_mask):\n",
    "    predicted = sess.run(G_output, feed_dict={target: batch_d, mask_t: batch_mask, d_flg: False})\n",
    "    \n",
    "    return predicted\n",
    "\n",
    "def predict_sparse(sess, G_output, batch_d):\n",
    "    predicted = sess.run(G_output, feed_dict={sparse: batch_d, d_flg: False})\n",
    "    \n",
    "    return predicted"
   ]
  },
  {
   "cell_type": "code",
   "execution_count": 143,
   "metadata": {},
   "outputs": [],
   "source": [
    "def random_type_mask(rgb, size = synthia_size, mtype = 'rand'):\n",
    "    if mtype == 'rand+grad':\n",
    "        u = np.random.choice([0, 1], size=1000, p=[.3, .7])\n",
    "        if u: \n",
    "            mtype = 'rand'\n",
    "        else:\n",
    "            mtype = 'grad'\n",
    "                \n",
    "    if mtype == 'rand':\n",
    "        p = np.random.choice([0.05, 0.1, 0.2, 0.4])\n",
    "        mask = get_mask(size, p)\n",
    "    elif mtype == 'grad':\n",
    "        mask = get_grad_mask(rgb, size)\n",
    "    \n",
    "    return mask\n",
    "    "
   ]
  },
  {
   "cell_type": "code",
   "execution_count": 144,
   "metadata": {},
   "outputs": [
    {
     "name": "stdout",
     "output_type": "stream",
     "text": [
      "0.11817708333333334\n",
      "0.148564453125\n"
     ]
    },
    {
     "data": {
      "image/png": "[encoded data removed]",
      "text/plain": [
       "<matplotlib.figure.Figure at 0x4c31add8>"
      ]
     },
     "metadata": {},
     "output_type": "display_data"
    },
    {
     "data": {
      "image/png": "[encoded data removed]",
      "text/plain": [
       "<matplotlib.figure.Figure at 0x4c31ac18>"
      ]
     },
     "metadata": {},
     "output_type": "display_data"
    }
   ],
   "source": [
    "grad_ms = get_grad_mask(val_image_s,synthia_size)\n",
    "grad_md = get_grad_mask(val_image_d,synthia_size)\n",
    "plt.matshow(get_grad_mask(val_image_s,synthia_size)[0,:,:,0])\n",
    "plt.matshow(get_grad_mask(val_image_d,synthia_size)[0,:,:,0])\n",
    "print(np.mean(grad_ms))\n",
    "print(np.mean(grad_md))"
   ]
  },
  {
   "cell_type": "code",
   "execution_count": 155,
   "metadata": {},
   "outputs": [],
   "source": [
    "input_rgb, target,mask_t, d_flg = interpolation_model.get_placeholders()\n",
    "with tf.device('/cpu:0'):\n",
    "    input_rgb, target = next_element_rgb, next_element_d \n",
    "    mask_t = random_type_mask(input_rgb, mtype = 'rand')\n",
    "    y_true, d_input, m = interpolation_model.preprocess_depth(target, mask_t, synthia_size)\n",
    "    gr_input = interpolation_model.preprocess_rgb(input_rgb, synthia_size)\n",
    "G_output =  interpolation_model.model(d_input, m, base_filters = 32,p=0.5, d_flg = False, use_bn = False)"
   ]
  },
  {
   "cell_type": "code",
   "execution_count": 156,
   "metadata": {},
   "outputs": [],
   "source": [
    "#from vgg.vgg16 import VGG16\n",
    "#vgg_model_true = VGG16(vgg19_npy_path=vgg_npy_path)\n",
    "#vgg_model_gen = VGG16(vgg19_npy_path=vgg_npy_path)"
   ]
  },
  {
   "cell_type": "code",
   "execution_count": 157,
   "metadata": {},
   "outputs": [],
   "source": [
    "with tf.variable_scope('loss'):\n",
    "    #vgg loss\n",
    "    #exp_out = tf.exp(G_output)\n",
    "    #exp_true = tf.exp(y_true)\n",
    "    exp_out = G_output\n",
    "    exp_true = y_true\n",
    "    y_true_normalized = (exp_true - tf.reduce_min(exp_true))/(tf.reduce_max(exp_true) \n",
    "                                                              - tf.reduce_min(exp_true))\n",
    "    y_true_3ch = tf.concat([y_true_normalized]*3,3)\n",
    "    \n",
    "    gen_normalized = (exp_out - tf.reduce_min(exp_out))/(tf.reduce_max(exp_out) \n",
    "                                                         - tf.reduce_min(exp_out))\n",
    "    gen_normalized = (exp_out - tf.reduce_min(exp_out))/(tf.reduce_max(exp_out) \n",
    "                                                         - tf.reduce_min(exp_out))\n",
    "    generated_3ch = tf.concat([gen_normalized]*3, 3)\n",
    "    \n",
    "    \"\"\"\n",
    "    vgg_model_true.build(y_true_3ch)\n",
    "    true_features = vgg_model_true.conv3_1\n",
    "    vgg_model_gen.build(generated_3ch)\n",
    "    gen_features = vgg_model_gen.conv3_1\n",
    "    VGG_loss = tf.reduce_mean(tf.square(true_features - gen_features))\n",
    "    \"\"\"\n",
    "\n",
    "    #generator_loss\n",
    "    tv_loss = tf.reduce_mean(tf.reduce_sum(tf.sqrt(tf.square(G_output[:, :-1, -1:, :] - G_output[:, 1:, -1:, :]) + \\\n",
    "              tf.square(G_output[:, :-1, :-1, :] - G_output[:, :-1, 1:, :])), axis=[1, 2, 3]))\n",
    "    #G_loss = tf.reduce_mean(tf.square(y_true - G_output)) \n",
    "    square_loss = tf.reduce_mean(tf.square(y_true - G_output))\n",
    "    G_loss = square_loss# + 5e-5*VGG_loss\n",
    "    #G_loss = tf.reduce_mean(tf.square(y_true - G_output)) + 2e-6*tv_loss\n",
    "    #GC_loss = tf.reduce_mean(tf.abs(tf.log(GC_output  + eps) - log_true))"
   ]
  },
  {
   "cell_type": "code",
   "execution_count": 158,
   "metadata": {},
   "outputs": [],
   "source": [
    "eps = tf.constant(1e-2)"
   ]
  },
  {
   "cell_type": "code",
   "execution_count": 159,
   "metadata": {},
   "outputs": [],
   "source": [
    "with tf.variable_scope('opt'):\n",
    "    #optimizers\n",
    "    all_params = tf.trainable_variables()\n",
    "    first_stage = [p for p in all_params if 'G_Depth' in p.name]\n",
    "    lr = tf.placeholder(dtype=tf.float32)\n",
    "    train_G = tf.train.AdamOptimizer(lr).minimize(G_loss, var_list = first_stage)"
   ]
  },
  {
   "cell_type": "code",
   "execution_count": 160,
   "metadata": {},
   "outputs": [],
   "source": [
    "with tf.variable_scope('summaries'):\n",
    "    loss = tf.summary.scalar('loss', G_loss)\n",
    "    mae = tf.reduce_mean(tf.abs(G_output-y_true)/(y_true + eps))\n",
    "    rmse = tf.sqrt(tf.reduce_mean(tf.square(G_output-y_true)))\n",
    "    mae_summary = tf.summary.scalar('MAE', mae)\n",
    "    in_summary = tf.summary.image('input', d_input , max_outputs=1)\n",
    "    out_summary = tf.summary.image('output',G_output , max_outputs=1)\n",
    "    gt_summary = tf.summary.image('gt_depth', y_true , max_outputs=1)\n",
    "    all_summaries = tf.summary.merge([mae_summary, in_summary, out_summary, loss])"
   ]
  },
  {
   "cell_type": "code",
   "execution_count": 161,
   "metadata": {},
   "outputs": [],
   "source": [
    "sess = tf.InteractiveSession()\n",
    "\n",
    "ground_truths = tf.summary.FileWriter(logdir=os.path.join(log_prefix,'img_gt','s').replace(\"\\\\\",\"/\"))\n",
    "ground_truthd = tf.summary.FileWriter(logdir=os.path.join(log_prefix, 'img_gt','d').replace(\"\\\\\",\"/\"))\n",
    "writer_grads = tf.summary.FileWriter(logdir=os.path.join(log_prefix,'grad','s').replace(\"\\\\\",\"/\"))\n",
    "writer_gradd = tf.summary.FileWriter(logdir=os.path.join(log_prefix,'grad','d').replace(\"\\\\\",\"/\"))\n",
    "sess.run(tf.global_variables_initializer())"
   ]
  },
  {
   "cell_type": "code",
   "execution_count": 162,
   "metadata": {},
   "outputs": [
    {
     "ename": "ResourceExhaustedError",
     "evalue": "OOM when allocating tensor with shape[5,32,240,320] and type float on /job:localhost/replica:0/task:0/device:GPU:0 by allocator GPU_0_bfc\n\t [[Node: G_Depth/convolution_2/Conv/Conv2D = Conv2D[T=DT_FLOAT, data_format=\"NHWC\", dilations=[1, 1, 1, 1], padding=\"SAME\", strides=[1, 1, 1, 1], use_cudnn_on_gpu=true, _device=\"/job:localhost/replica:0/task:0/device:GPU:0\"](G_Depth/AvgPool2D/AvgPool, G_Depth/convolution_2/Conv/weights/read)]]\nHint: If you want to see a list of allocated tensors when OOM happens, add report_tensor_allocations_upon_oom to RunOptions for current allocation info.\n\n\t [[Node: loss/Mean_1/_25 = _Recv[client_terminated=false, recv_device=\"/job:localhost/replica:0/task:0/device:CPU:0\", send_device=\"/job:localhost/replica:0/task:0/device:GPU:0\", send_device_incarnation=1, tensor_name=\"edge_1806_loss/Mean_1\", tensor_type=DT_FLOAT, _device=\"/job:localhost/replica:0/task:0/device:CPU:0\"]()]]\nHint: If you want to see a list of allocated tensors when OOM happens, add report_tensor_allocations_upon_oom to RunOptions for current allocation info.\n\n\nCaused by op 'G_Depth/convolution_2/Conv/Conv2D', defined at:\n  File \"D:\\Python36\\lib\\runpy.py\", line 193, in _run_module_as_main\n    \"__main__\", mod_spec)\n  File \"D:\\Python36\\lib\\runpy.py\", line 85, in _run_code\n    exec(code, run_globals)\n  File \"D:\\Python36\\lib\\site-packages\\ipykernel_launcher.py\", line 16, in <module>\n    app.launch_new_instance()\n  File \"D:\\Python36\\lib\\site-packages\\traitlets\\config\\application.py\", line 658, in launch_instance\n    app.start()\n  File \"D:\\Python36\\lib\\site-packages\\ipykernel\\kernelapp.py\", line 486, in start\n    self.io_loop.start()\n  File \"D:\\Python36\\lib\\site-packages\\tornado\\ioloop.py\", line 888, in start\n    handler_func(fd_obj, events)\n  File \"D:\\Python36\\lib\\site-packages\\tornado\\stack_context.py\", line 277, in null_wrapper\n    return fn(*args, **kwargs)\n  File \"D:\\Python36\\lib\\site-packages\\zmq\\eventloop\\zmqstream.py\", line 450, in _handle_events\n    self._handle_recv()\n  File \"D:\\Python36\\lib\\site-packages\\zmq\\eventloop\\zmqstream.py\", line 480, in _handle_recv\n    self._run_callback(callback, msg)\n  File \"D:\\Python36\\lib\\site-packages\\zmq\\eventloop\\zmqstream.py\", line 432, in _run_callback\n    callback(*args, **kwargs)\n  File \"D:\\Python36\\lib\\site-packages\\tornado\\stack_context.py\", line 277, in null_wrapper\n    return fn(*args, **kwargs)\n  File \"D:\\Python36\\lib\\site-packages\\ipykernel\\kernelbase.py\", line 283, in dispatcher\n    return self.dispatch_shell(stream, msg)\n  File \"D:\\Python36\\lib\\site-packages\\ipykernel\\kernelbase.py\", line 233, in dispatch_shell\n    handler(stream, idents, msg)\n  File \"D:\\Python36\\lib\\site-packages\\ipykernel\\kernelbase.py\", line 399, in execute_request\n    user_expressions, allow_stdin)\n  File \"D:\\Python36\\lib\\site-packages\\ipykernel\\ipkernel.py\", line 208, in do_execute\n    res = shell.run_cell(code, store_history=store_history, silent=silent)\n  File \"D:\\Python36\\lib\\site-packages\\ipykernel\\zmqshell.py\", line 537, in run_cell\n    return super(ZMQInteractiveShell, self).run_cell(*args, **kwargs)\n  File \"D:\\Python36\\lib\\site-packages\\IPython\\core\\interactiveshell.py\", line 2728, in run_cell\n    interactivity=interactivity, compiler=compiler, result=result)\n  File \"D:\\Python36\\lib\\site-packages\\IPython\\core\\interactiveshell.py\", line 2850, in run_ast_nodes\n    if self.run_code(code, result):\n  File \"D:\\Python36\\lib\\site-packages\\IPython\\core\\interactiveshell.py\", line 2910, in run_code\n    exec(code_obj, self.user_global_ns, self.user_ns)\n  File \"<ipython-input-155-980f004ad4a0>\", line 7, in <module>\n    G_output =  interpolation_model.model(d_input, m, base_filters = 32,p=0.5, d_flg = False, use_bn = False)\n  File \"D:\\Alice\\OneDrive\\code\\models\\interpolation_model.py\", line 343, in model\n    bn=use_bn)\n  File \"D:\\Alice\\OneDrive\\code\\models\\interpolation_model.py\", line 158, in projection_block\n    normalizer_params={'activation_fn': act})\n  File \"D:\\Python36\\lib\\site-packages\\tensorflow\\contrib\\framework\\python\\ops\\arg_scope.py\", line 182, in func_with_args\n    return func(*args, **current_args)\n  File \"D:\\Python36\\lib\\site-packages\\tensorflow\\contrib\\layers\\python\\layers\\layers.py\", line 1057, in convolution\n    outputs = layer.apply(inputs)\n  File \"D:\\Python36\\lib\\site-packages\\tensorflow\\python\\layers\\base.py\", line 762, in apply\n    return self.__call__(inputs, *args, **kwargs)\n  File \"D:\\Python36\\lib\\site-packages\\tensorflow\\python\\layers\\base.py\", line 652, in __call__\n    outputs = self.call(inputs, *args, **kwargs)\n  File \"D:\\Python36\\lib\\site-packages\\tensorflow\\python\\layers\\convolutional.py\", line 167, in call\n    outputs = self._convolution_op(inputs, self.kernel)\n  File \"D:\\Python36\\lib\\site-packages\\tensorflow\\python\\ops\\nn_ops.py\", line 838, in __call__\n    return self.conv_op(inp, filter)\n  File \"D:\\Python36\\lib\\site-packages\\tensorflow\\python\\ops\\nn_ops.py\", line 502, in __call__\n    return self.call(inp, filter)\n  File \"D:\\Python36\\lib\\site-packages\\tensorflow\\python\\ops\\nn_ops.py\", line 190, in __call__\n    name=self.name)\n  File \"D:\\Python36\\lib\\site-packages\\tensorflow\\python\\ops\\gen_nn_ops.py\", line 725, in conv2d\n    data_format=data_format, dilations=dilations, name=name)\n  File \"D:\\Python36\\lib\\site-packages\\tensorflow\\python\\framework\\op_def_library.py\", line 787, in _apply_op_helper\n    op_def=op_def)\n  File \"D:\\Python36\\lib\\site-packages\\tensorflow\\python\\framework\\ops.py\", line 3160, in create_op\n    op_def=op_def)\n  File \"D:\\Python36\\lib\\site-packages\\tensorflow\\python\\framework\\ops.py\", line 1625, in __init__\n    self._traceback = self._graph._extract_stack()  # pylint: disable=protected-access\n\nResourceExhaustedError (see above for traceback): OOM when allocating tensor with shape[5,32,240,320] and type float on /job:localhost/replica:0/task:0/device:GPU:0 by allocator GPU_0_bfc\n\t [[Node: G_Depth/convolution_2/Conv/Conv2D = Conv2D[T=DT_FLOAT, data_format=\"NHWC\", dilations=[1, 1, 1, 1], padding=\"SAME\", strides=[1, 1, 1, 1], use_cudnn_on_gpu=true, _device=\"/job:localhost/replica:0/task:0/device:GPU:0\"](G_Depth/AvgPool2D/AvgPool, G_Depth/convolution_2/Conv/weights/read)]]\nHint: If you want to see a list of allocated tensors when OOM happens, add report_tensor_allocations_upon_oom to RunOptions for current allocation info.\n\n\t [[Node: loss/Mean_1/_25 = _Recv[client_terminated=false, recv_device=\"/job:localhost/replica:0/task:0/device:CPU:0\", send_device=\"/job:localhost/replica:0/task:0/device:GPU:0\", send_device_incarnation=1, tensor_name=\"edge_1806_loss/Mean_1\", tensor_type=DT_FLOAT, _device=\"/job:localhost/replica:0/task:0/device:CPU:0\"]()]]\nHint: If you want to see a list of allocated tensors when OOM happens, add report_tensor_allocations_upon_oom to RunOptions for current allocation info.\n\n",
     "output_type": "error",
     "traceback": [
      "\u001b[1;31m---------------------------------------------------------------------------\u001b[0m",
      "\u001b[1;31mResourceExhaustedError\u001b[0m                    Traceback (most recent call last)",
      "\u001b[1;32mD:\\Python36\\lib\\site-packages\\tensorflow\\python\\client\\session.py\u001b[0m in \u001b[0;36m_do_call\u001b[1;34m(self, fn, *args)\u001b[0m\n\u001b[0;32m   1349\u001b[0m     \u001b[1;32mtry\u001b[0m\u001b[1;33m:\u001b[0m\u001b[1;33m\u001b[0m\u001b[0m\n\u001b[1;32m-> 1350\u001b[1;33m       \u001b[1;32mreturn\u001b[0m \u001b[0mfn\u001b[0m\u001b[1;33m(\u001b[0m\u001b[1;33m*\u001b[0m\u001b[0margs\u001b[0m\u001b[1;33m)\u001b[0m\u001b[1;33m\u001b[0m\u001b[0m\n\u001b[0m\u001b[0;32m   1351\u001b[0m     \u001b[1;32mexcept\u001b[0m \u001b[0merrors\u001b[0m\u001b[1;33m.\u001b[0m\u001b[0mOpError\u001b[0m \u001b[1;32mas\u001b[0m \u001b[0me\u001b[0m\u001b[1;33m:\u001b[0m\u001b[1;33m\u001b[0m\u001b[0m\n",
      "\u001b[1;32mD:\\Python36\\lib\\site-packages\\tensorflow\\python\\client\\session.py\u001b[0m in \u001b[0;36m_run_fn\u001b[1;34m(session, feed_dict, fetch_list, target_list, options, run_metadata)\u001b[0m\n\u001b[0;32m   1328\u001b[0m                                    \u001b[0mfeed_dict\u001b[0m\u001b[1;33m,\u001b[0m \u001b[0mfetch_list\u001b[0m\u001b[1;33m,\u001b[0m \u001b[0mtarget_list\u001b[0m\u001b[1;33m,\u001b[0m\u001b[1;33m\u001b[0m\u001b[0m\n\u001b[1;32m-> 1329\u001b[1;33m                                    status, run_metadata)\n\u001b[0m\u001b[0;32m   1330\u001b[0m \u001b[1;33m\u001b[0m\u001b[0m\n",
      "\u001b[1;32mD:\\Python36\\lib\\site-packages\\tensorflow\\python\\framework\\errors_impl.py\u001b[0m in \u001b[0;36m__exit__\u001b[1;34m(self, type_arg, value_arg, traceback_arg)\u001b[0m\n\u001b[0;32m    472\u001b[0m             \u001b[0mcompat\u001b[0m\u001b[1;33m.\u001b[0m\u001b[0mas_text\u001b[0m\u001b[1;33m(\u001b[0m\u001b[0mc_api\u001b[0m\u001b[1;33m.\u001b[0m\u001b[0mTF_Message\u001b[0m\u001b[1;33m(\u001b[0m\u001b[0mself\u001b[0m\u001b[1;33m.\u001b[0m\u001b[0mstatus\u001b[0m\u001b[1;33m.\u001b[0m\u001b[0mstatus\u001b[0m\u001b[1;33m)\u001b[0m\u001b[1;33m)\u001b[0m\u001b[1;33m,\u001b[0m\u001b[1;33m\u001b[0m\u001b[0m\n\u001b[1;32m--> 473\u001b[1;33m             c_api.TF_GetCode(self.status.status))\n\u001b[0m\u001b[0;32m    474\u001b[0m     \u001b[1;31m# Delete the underlying status object from memory otherwise it stays alive\u001b[0m\u001b[1;33m\u001b[0m\u001b[1;33m\u001b[0m\u001b[0m\n",
      "\u001b[1;31mResourceExhaustedError\u001b[0m: OOM when allocating tensor with shape[5,32,240,320] and type float on /job:localhost/replica:0/task:0/device:GPU:0 by allocator GPU_0_bfc\n\t [[Node: G_Depth/convolution_2/Conv/Conv2D = Conv2D[T=DT_FLOAT, data_format=\"NHWC\", dilations=[1, 1, 1, 1], padding=\"SAME\", strides=[1, 1, 1, 1], use_cudnn_on_gpu=true, _device=\"/job:localhost/replica:0/task:0/device:GPU:0\"](G_Depth/AvgPool2D/AvgPool, G_Depth/convolution_2/Conv/weights/read)]]\nHint: If you want to see a list of allocated tensors when OOM happens, add report_tensor_allocations_upon_oom to RunOptions for current allocation info.\n\n\t [[Node: loss/Mean_1/_25 = _Recv[client_terminated=false, recv_device=\"/job:localhost/replica:0/task:0/device:CPU:0\", send_device=\"/job:localhost/replica:0/task:0/device:GPU:0\", send_device_incarnation=1, tensor_name=\"edge_1806_loss/Mean_1\", tensor_type=DT_FLOAT, _device=\"/job:localhost/replica:0/task:0/device:CPU:0\"]()]]\nHint: If you want to see a list of allocated tensors when OOM happens, add report_tensor_allocations_upon_oom to RunOptions for current allocation info.\n",
      "\nDuring handling of the above exception, another exception occurred:\n",
      "\u001b[1;31mResourceExhaustedError\u001b[0m                    Traceback (most recent call last)",
      "\u001b[1;32m<ipython-input-162-23dca066ef0b>\u001b[0m in \u001b[0;36m<module>\u001b[1;34m()\u001b[0m\n\u001b[0;32m     16\u001b[0m \u001b[1;33m\u001b[0m\u001b[0m\n\u001b[0;32m     17\u001b[0m     \u001b[1;32mfor\u001b[0m \u001b[0m_\u001b[0m \u001b[1;32min\u001b[0m \u001b[0mrange\u001b[0m\u001b[1;33m(\u001b[0m\u001b[1;36m100\u001b[0m\u001b[1;33m)\u001b[0m\u001b[1;33m:\u001b[0m\u001b[1;33m\u001b[0m\u001b[0m\n\u001b[1;32m---> 18\u001b[1;33m         \u001b[0m_\u001b[0m\u001b[1;33m,\u001b[0m \u001b[0mll\u001b[0m \u001b[1;33m=\u001b[0m \u001b[0msess\u001b[0m\u001b[1;33m.\u001b[0m\u001b[0mrun\u001b[0m\u001b[1;33m(\u001b[0m\u001b[1;33m[\u001b[0m\u001b[0mtrain_G\u001b[0m\u001b[1;33m,\u001b[0m \u001b[0mG_loss\u001b[0m\u001b[1;33m]\u001b[0m\u001b[1;33m,\u001b[0m \u001b[0mfeed_dict\u001b[0m \u001b[1;33m=\u001b[0m \u001b[1;33m{\u001b[0m\u001b[0md_flg\u001b[0m\u001b[1;33m:\u001b[0m\u001b[1;32mTrue\u001b[0m\u001b[1;33m,\u001b[0m \u001b[0mlr\u001b[0m\u001b[1;33m:\u001b[0m\u001b[0mrate\u001b[0m\u001b[1;33m[\u001b[0m\u001b[0me\u001b[0m\u001b[1;33m]\u001b[0m\u001b[1;33m}\u001b[0m\u001b[1;33m)\u001b[0m\u001b[1;33m\u001b[0m\u001b[0m\n\u001b[0m\u001b[0;32m     19\u001b[0m         \u001b[0mmse_loss\u001b[0m \u001b[1;33m+=\u001b[0m \u001b[0mll\u001b[0m\u001b[1;33m\u001b[0m\u001b[0m\n\u001b[0;32m     20\u001b[0m         \u001b[0mi\u001b[0m \u001b[1;33m+=\u001b[0m \u001b[1;36m1\u001b[0m\u001b[1;33m\u001b[0m\u001b[0m\n",
      "\u001b[1;32mD:\\Python36\\lib\\site-packages\\tensorflow\\python\\client\\session.py\u001b[0m in \u001b[0;36mrun\u001b[1;34m(self, fetches, feed_dict, options, run_metadata)\u001b[0m\n\u001b[0;32m    893\u001b[0m     \u001b[1;32mtry\u001b[0m\u001b[1;33m:\u001b[0m\u001b[1;33m\u001b[0m\u001b[0m\n\u001b[0;32m    894\u001b[0m       result = self._run(None, fetches, feed_dict, options_ptr,\n\u001b[1;32m--> 895\u001b[1;33m                          run_metadata_ptr)\n\u001b[0m\u001b[0;32m    896\u001b[0m       \u001b[1;32mif\u001b[0m \u001b[0mrun_metadata\u001b[0m\u001b[1;33m:\u001b[0m\u001b[1;33m\u001b[0m\u001b[0m\n\u001b[0;32m    897\u001b[0m         \u001b[0mproto_data\u001b[0m \u001b[1;33m=\u001b[0m \u001b[0mtf_session\u001b[0m\u001b[1;33m.\u001b[0m\u001b[0mTF_GetBuffer\u001b[0m\u001b[1;33m(\u001b[0m\u001b[0mrun_metadata_ptr\u001b[0m\u001b[1;33m)\u001b[0m\u001b[1;33m\u001b[0m\u001b[0m\n",
      "\u001b[1;32mD:\\Python36\\lib\\site-packages\\tensorflow\\python\\client\\session.py\u001b[0m in \u001b[0;36m_run\u001b[1;34m(self, handle, fetches, feed_dict, options, run_metadata)\u001b[0m\n\u001b[0;32m   1126\u001b[0m     \u001b[1;32mif\u001b[0m \u001b[0mfinal_fetches\u001b[0m \u001b[1;32mor\u001b[0m \u001b[0mfinal_targets\u001b[0m \u001b[1;32mor\u001b[0m \u001b[1;33m(\u001b[0m\u001b[0mhandle\u001b[0m \u001b[1;32mand\u001b[0m \u001b[0mfeed_dict_tensor\u001b[0m\u001b[1;33m)\u001b[0m\u001b[1;33m:\u001b[0m\u001b[1;33m\u001b[0m\u001b[0m\n\u001b[0;32m   1127\u001b[0m       results = self._do_run(handle, final_targets, final_fetches,\n\u001b[1;32m-> 1128\u001b[1;33m                              feed_dict_tensor, options, run_metadata)\n\u001b[0m\u001b[0;32m   1129\u001b[0m     \u001b[1;32melse\u001b[0m\u001b[1;33m:\u001b[0m\u001b[1;33m\u001b[0m\u001b[0m\n\u001b[0;32m   1130\u001b[0m       \u001b[0mresults\u001b[0m \u001b[1;33m=\u001b[0m \u001b[1;33m[\u001b[0m\u001b[1;33m]\u001b[0m\u001b[1;33m\u001b[0m\u001b[0m\n",
      "\u001b[1;32mD:\\Python36\\lib\\site-packages\\tensorflow\\python\\client\\session.py\u001b[0m in \u001b[0;36m_do_run\u001b[1;34m(self, handle, target_list, fetch_list, feed_dict, options, run_metadata)\u001b[0m\n\u001b[0;32m   1342\u001b[0m     \u001b[1;32mif\u001b[0m \u001b[0mhandle\u001b[0m \u001b[1;32mis\u001b[0m \u001b[1;32mNone\u001b[0m\u001b[1;33m:\u001b[0m\u001b[1;33m\u001b[0m\u001b[0m\n\u001b[0;32m   1343\u001b[0m       return self._do_call(_run_fn, self._session, feeds, fetches, targets,\n\u001b[1;32m-> 1344\u001b[1;33m                            options, run_metadata)\n\u001b[0m\u001b[0;32m   1345\u001b[0m     \u001b[1;32melse\u001b[0m\u001b[1;33m:\u001b[0m\u001b[1;33m\u001b[0m\u001b[0m\n\u001b[0;32m   1346\u001b[0m       \u001b[1;32mreturn\u001b[0m \u001b[0mself\u001b[0m\u001b[1;33m.\u001b[0m\u001b[0m_do_call\u001b[0m\u001b[1;33m(\u001b[0m\u001b[0m_prun_fn\u001b[0m\u001b[1;33m,\u001b[0m \u001b[0mself\u001b[0m\u001b[1;33m.\u001b[0m\u001b[0m_session\u001b[0m\u001b[1;33m,\u001b[0m \u001b[0mhandle\u001b[0m\u001b[1;33m,\u001b[0m \u001b[0mfeeds\u001b[0m\u001b[1;33m,\u001b[0m \u001b[0mfetches\u001b[0m\u001b[1;33m)\u001b[0m\u001b[1;33m\u001b[0m\u001b[0m\n",
      "\u001b[1;32mD:\\Python36\\lib\\site-packages\\tensorflow\\python\\client\\session.py\u001b[0m in \u001b[0;36m_do_call\u001b[1;34m(self, fn, *args)\u001b[0m\n\u001b[0;32m   1361\u001b[0m         \u001b[1;32mexcept\u001b[0m \u001b[0mKeyError\u001b[0m\u001b[1;33m:\u001b[0m\u001b[1;33m\u001b[0m\u001b[0m\n\u001b[0;32m   1362\u001b[0m           \u001b[1;32mpass\u001b[0m\u001b[1;33m\u001b[0m\u001b[0m\n\u001b[1;32m-> 1363\u001b[1;33m       \u001b[1;32mraise\u001b[0m \u001b[0mtype\u001b[0m\u001b[1;33m(\u001b[0m\u001b[0me\u001b[0m\u001b[1;33m)\u001b[0m\u001b[1;33m(\u001b[0m\u001b[0mnode_def\u001b[0m\u001b[1;33m,\u001b[0m \u001b[0mop\u001b[0m\u001b[1;33m,\u001b[0m \u001b[0mmessage\u001b[0m\u001b[1;33m)\u001b[0m\u001b[1;33m\u001b[0m\u001b[0m\n\u001b[0m\u001b[0;32m   1364\u001b[0m \u001b[1;33m\u001b[0m\u001b[0m\n\u001b[0;32m   1365\u001b[0m   \u001b[1;32mdef\u001b[0m \u001b[0m_extend_graph\u001b[0m\u001b[1;33m(\u001b[0m\u001b[0mself\u001b[0m\u001b[1;33m)\u001b[0m\u001b[1;33m:\u001b[0m\u001b[1;33m\u001b[0m\u001b[0m\n",
      "\u001b[1;31mResourceExhaustedError\u001b[0m: OOM when allocating tensor with shape[5,32,240,320] and type float on /job:localhost/replica:0/task:0/device:GPU:0 by allocator GPU_0_bfc\n\t [[Node: G_Depth/convolution_2/Conv/Conv2D = Conv2D[T=DT_FLOAT, data_format=\"NHWC\", dilations=[1, 1, 1, 1], padding=\"SAME\", strides=[1, 1, 1, 1], use_cudnn_on_gpu=true, _device=\"/job:localhost/replica:0/task:0/device:GPU:0\"](G_Depth/AvgPool2D/AvgPool, G_Depth/convolution_2/Conv/weights/read)]]\nHint: If you want to see a list of allocated tensors when OOM happens, add report_tensor_allocations_upon_oom to RunOptions for current allocation info.\n\n\t [[Node: loss/Mean_1/_25 = _Recv[client_terminated=false, recv_device=\"/job:localhost/replica:0/task:0/device:CPU:0\", send_device=\"/job:localhost/replica:0/task:0/device:GPU:0\", send_device_incarnation=1, tensor_name=\"edge_1806_loss/Mean_1\", tensor_type=DT_FLOAT, _device=\"/job:localhost/replica:0/task:0/device:CPU:0\"]()]]\nHint: If you want to see a list of allocated tensors when OOM happens, add report_tensor_allocations_upon_oom to RunOptions for current allocation info.\n\n\nCaused by op 'G_Depth/convolution_2/Conv/Conv2D', defined at:\n  File \"D:\\Python36\\lib\\runpy.py\", line 193, in _run_module_as_main\n    \"__main__\", mod_spec)\n  File \"D:\\Python36\\lib\\runpy.py\", line 85, in _run_code\n    exec(code, run_globals)\n  File \"D:\\Python36\\lib\\site-packages\\ipykernel_launcher.py\", line 16, in <module>\n    app.launch_new_instance()\n  File \"D:\\Python36\\lib\\site-packages\\traitlets\\config\\application.py\", line 658, in launch_instance\n    app.start()\n  File \"D:\\Python36\\lib\\site-packages\\ipykernel\\kernelapp.py\", line 486, in start\n    self.io_loop.start()\n  File \"D:\\Python36\\lib\\site-packages\\tornado\\ioloop.py\", line 888, in start\n    handler_func(fd_obj, events)\n  File \"D:\\Python36\\lib\\site-packages\\tornado\\stack_context.py\", line 277, in null_wrapper\n    return fn(*args, **kwargs)\n  File \"D:\\Python36\\lib\\site-packages\\zmq\\eventloop\\zmqstream.py\", line 450, in _handle_events\n    self._handle_recv()\n  File \"D:\\Python36\\lib\\site-packages\\zmq\\eventloop\\zmqstream.py\", line 480, in _handle_recv\n    self._run_callback(callback, msg)\n  File \"D:\\Python36\\lib\\site-packages\\zmq\\eventloop\\zmqstream.py\", line 432, in _run_callback\n    callback(*args, **kwargs)\n  File \"D:\\Python36\\lib\\site-packages\\tornado\\stack_context.py\", line 277, in null_wrapper\n    return fn(*args, **kwargs)\n  File \"D:\\Python36\\lib\\site-packages\\ipykernel\\kernelbase.py\", line 283, in dispatcher\n    return self.dispatch_shell(stream, msg)\n  File \"D:\\Python36\\lib\\site-packages\\ipykernel\\kernelbase.py\", line 233, in dispatch_shell\n    handler(stream, idents, msg)\n  File \"D:\\Python36\\lib\\site-packages\\ipykernel\\kernelbase.py\", line 399, in execute_request\n    user_expressions, allow_stdin)\n  File \"D:\\Python36\\lib\\site-packages\\ipykernel\\ipkernel.py\", line 208, in do_execute\n    res = shell.run_cell(code, store_history=store_history, silent=silent)\n  File \"D:\\Python36\\lib\\site-packages\\ipykernel\\zmqshell.py\", line 537, in run_cell\n    return super(ZMQInteractiveShell, self).run_cell(*args, **kwargs)\n  File \"D:\\Python36\\lib\\site-packages\\IPython\\core\\interactiveshell.py\", line 2728, in run_cell\n    interactivity=interactivity, compiler=compiler, result=result)\n  File \"D:\\Python36\\lib\\site-packages\\IPython\\core\\interactiveshell.py\", line 2850, in run_ast_nodes\n    if self.run_code(code, result):\n  File \"D:\\Python36\\lib\\site-packages\\IPython\\core\\interactiveshell.py\", line 2910, in run_code\n    exec(code_obj, self.user_global_ns, self.user_ns)\n  File \"<ipython-input-155-980f004ad4a0>\", line 7, in <module>\n    G_output =  interpolation_model.model(d_input, m, base_filters = 32,p=0.5, d_flg = False, use_bn = False)\n  File \"D:\\Alice\\OneDrive\\code\\models\\interpolation_model.py\", line 343, in model\n    bn=use_bn)\n  File \"D:\\Alice\\OneDrive\\code\\models\\interpolation_model.py\", line 158, in projection_block\n    normalizer_params={'activation_fn': act})\n  File \"D:\\Python36\\lib\\site-packages\\tensorflow\\contrib\\framework\\python\\ops\\arg_scope.py\", line 182, in func_with_args\n    return func(*args, **current_args)\n  File \"D:\\Python36\\lib\\site-packages\\tensorflow\\contrib\\layers\\python\\layers\\layers.py\", line 1057, in convolution\n    outputs = layer.apply(inputs)\n  File \"D:\\Python36\\lib\\site-packages\\tensorflow\\python\\layers\\base.py\", line 762, in apply\n    return self.__call__(inputs, *args, **kwargs)\n  File \"D:\\Python36\\lib\\site-packages\\tensorflow\\python\\layers\\base.py\", line 652, in __call__\n    outputs = self.call(inputs, *args, **kwargs)\n  File \"D:\\Python36\\lib\\site-packages\\tensorflow\\python\\layers\\convolutional.py\", line 167, in call\n    outputs = self._convolution_op(inputs, self.kernel)\n  File \"D:\\Python36\\lib\\site-packages\\tensorflow\\python\\ops\\nn_ops.py\", line 838, in __call__\n    return self.conv_op(inp, filter)\n  File \"D:\\Python36\\lib\\site-packages\\tensorflow\\python\\ops\\nn_ops.py\", line 502, in __call__\n    return self.call(inp, filter)\n  File \"D:\\Python36\\lib\\site-packages\\tensorflow\\python\\ops\\nn_ops.py\", line 190, in __call__\n    name=self.name)\n  File \"D:\\Python36\\lib\\site-packages\\tensorflow\\python\\ops\\gen_nn_ops.py\", line 725, in conv2d\n    data_format=data_format, dilations=dilations, name=name)\n  File \"D:\\Python36\\lib\\site-packages\\tensorflow\\python\\framework\\op_def_library.py\", line 787, in _apply_op_helper\n    op_def=op_def)\n  File \"D:\\Python36\\lib\\site-packages\\tensorflow\\python\\framework\\ops.py\", line 3160, in create_op\n    op_def=op_def)\n  File \"D:\\Python36\\lib\\site-packages\\tensorflow\\python\\framework\\ops.py\", line 1625, in __init__\n    self._traceback = self._graph._extract_stack()  # pylint: disable=protected-access\n\nResourceExhaustedError (see above for traceback): OOM when allocating tensor with shape[5,32,240,320] and type float on /job:localhost/replica:0/task:0/device:GPU:0 by allocator GPU_0_bfc\n\t [[Node: G_Depth/convolution_2/Conv/Conv2D = Conv2D[T=DT_FLOAT, data_format=\"NHWC\", dilations=[1, 1, 1, 1], padding=\"SAME\", strides=[1, 1, 1, 1], use_cudnn_on_gpu=true, _device=\"/job:localhost/replica:0/task:0/device:GPU:0\"](G_Depth/AvgPool2D/AvgPool, G_Depth/convolution_2/Conv/weights/read)]]\nHint: If you want to see a list of allocated tensors when OOM happens, add report_tensor_allocations_upon_oom to RunOptions for current allocation info.\n\n\t [[Node: loss/Mean_1/_25 = _Recv[client_terminated=false, recv_device=\"/job:localhost/replica:0/task:0/device:CPU:0\", send_device=\"/job:localhost/replica:0/task:0/device:GPU:0\", send_device_incarnation=1, tensor_name=\"edge_1806_loss/Mean_1\", tensor_type=DT_FLOAT, _device=\"/job:localhost/replica:0/task:0/device:CPU:0\"]()]]\nHint: If you want to see a list of allocated tensors when OOM happens, add report_tensor_allocations_upon_oom to RunOptions for current allocation info.\n\n"
     ]
    }
   ],
   "source": [
    "epochs = 1#35\n",
    "n_batches= len(synthia_depth)/batch_size\n",
    "\"\"\"\n",
    "ground_truths.add_summary(gt_summary.eval({input_rgb:val_image_s, target:val_gt_s}))\n",
    "ground_truthd.add_summary(gt_summary.eval({input_rgb:val_image_d, target:val_gt_d}))\n",
    "\n",
    "\"\"\"\n",
    "i = 0\n",
    "rate =  [1e-4]*30 + [1e-5]*30 \n",
    "saver = tf.train.Saver(max_to_keep=15)\n",
    "\n",
    "for e in range(epochs):\n",
    "    i = 0\n",
    "    sess.run(training_init_op)\n",
    "    mse_loss = 0\n",
    "    \n",
    "    for _ in range(100):\n",
    "        _, ll = sess.run([train_G, G_loss], feed_dict = {d_flg:True, lr:rate[e]})\n",
    "        mse_loss += ll\n",
    "        i += 1\n",
    "        print(i)\n",
    "        \"\"\"\n",
    "            if (i + 1)%10 == 0:\n",
    "                mask_uni = np.random.choice([0,1],size=synthia_size, p=[1 - 0.1, 0.1])[None,:,:,None]\n",
    "                sum_grad = all_summaries.eval({input_rgb:val_image_s, target:val_gt_s, mask_t:grad_ms, d_flg:False})\n",
    "                writer_grads.add_summary(sum_grad, i)\n",
    "                sum_grad = all_summaries.eval({input_rgb:val_image_d, target:val_gt_d, mask_t:grad_md, d_flg:False})\n",
    "                writer_gradd.add_summary(sum_grad, i)\n",
    "        \n",
    "        \"\"\"\n",
    "        \n",
    "    sess.run(validation_init_op)\n",
    "    for _ in range(100):\n",
    "        sess.run(next_element)\n",
    "\n",
    "\"\"\"\n",
    "\n",
    "for e in range(epochs):\n",
    "    try:\n",
    "        val_loss = 0\n",
    "        val_b = len(synthia_rgb_val)/batch_size\n",
    "        batch_it = tqdm(SynthiaIterator(synthia_rgb_val, synthia_depth_val, \n",
    "                                        batchsize=batch_size, \n",
    "                                        shuffle=True, \n",
    "                                        buffer_size = 70), \n",
    "                        total=val_b, \n",
    "                        leave=False)\n",
    "\n",
    "        for xb, yb in batch_it:\n",
    "            #t = np.random.choice([21, 31, 51])\n",
    "            mask = get_grad_mask(xb, synthia_size, 51)\n",
    "            #p = np.random.choice([0.05, 0.1, 0.2, 0.4])\n",
    "            #mask = get_mask(synthia_size, p)\n",
    "\n",
    "            ll = sess.run(mae, feed_dict={input_rgb:xb, target:yb, mask_t:mask, d_flg:False, \n",
    "                                                           lr:0})\n",
    "            val_loss += ll\n",
    "        print(\"epoch {0} val loss {1}\".format(e - 1, val_loss/val_b))\n",
    "        \n",
    "        \n",
    "        mse_loss = 0\n",
    "        batch_it = tqdm(SynthiaIterator(synthia_rgb, synthia_depth, \n",
    "                                        batchsize=batch_size, \n",
    "                                        shuffle=True, \n",
    "                                        buffer_size = 70), \n",
    "                        total=n_batches, \n",
    "                        leave=False)\n",
    "\n",
    "        for xb, yb in batch_it:\n",
    "\n",
    "            mask = get_grad_mask(xb, synthia_size)\n",
    "            #p = np.random.choice([0.05, 0.1, 0.2, 0.4])\n",
    "            #mask = get_mask(synthia_size, p)\n",
    "            aug = np.random.choice([0, 1, 2, 3])\n",
    "            if aug == 1:\n",
    "                xb = xb[:,:,::-1,:]\n",
    "                yb = yb[:,:,::-1,:]\n",
    "                mask = mask[:,:,::-1,:]\n",
    "            if aug == 2:\n",
    "                xb = xb[:,::-1,:,:]\n",
    "                yb = yb[:,::-1,:,:]\n",
    "                mask = mask[:,::-1,:,:]\n",
    "            if aug == 3:\n",
    "                xb = xb[:,::-1,::-1,:]\n",
    "                yb = yb[:,::-1,::-1,:]\n",
    "                mask = mask[:,::-1,::-1,:]\n",
    "            _, ll = sess.run([train_G, G_loss], feed_dict={input_rgb:xb, target:yb, mask_t:mask, d_flg:True, lr:rate[e]})\n",
    "            mse_loss += ll\n",
    "            if (i + 1)%10 == 0:\n",
    "                mask_uni = np.random.choice([0,1],size=synthia_size, p=[1 - 0.1, 0.1])[None,:,:,None]\n",
    "                sum_grad = all_summaries.eval({input_rgb:val_image_s, target:val_gt_s, mask_t:grad_ms, d_flg:False})\n",
    "                writer_grads.add_summary(sum_grad, i)\n",
    "                sum_grad = all_summaries.eval({input_rgb:val_image_d, target:val_gt_d, mask_t:grad_md, d_flg:False})\n",
    "                writer_gradd.add_summary(sum_grad, i)\n",
    "            i += 1\n",
    "        saver.save(sess, os.path.join(log_prefix,'model_{}.ckpt'), global_step=e)\n",
    "        print(\"epoch {0} train loss {1}\".format(e, mse_loss/n_batches))\n",
    "        \n",
    "        \n",
    "    except Exception as e:\n",
    "        batch_it.iterable.stop()\n",
    "        raise e\n",
    "        break \n",
    "# save model after training\n",
    "\n",
    "\"\"\"\n",
    "sess.close()"
   ]
  },
  {
   "cell_type": "markdown",
   "metadata": {},
   "source": [
    "# test phase"
   ]
  },
  {
   "cell_type": "code",
   "execution_count": null,
   "metadata": {},
   "outputs": [],
   "source": [
    "sess = tf.InteractiveSession()   \n",
    "restorer = tf.train.Saver()\n",
    "#restorer.restore(sess,'/mnt/storage/experiments/deeplearning-semidense/out/two_sec_vgg31_ps/model_34.ckpt')\n",
    "\n",
    "restorer.restore(sess,'C:/Users/Dell/Documents/Experiments/deeplearning-semidense/out/two_sec_vgg31_ps/model_34.ckpt')"
   ]
  },
  {
   "cell_type": "code",
   "execution_count": null,
   "metadata": {},
   "outputs": [],
   "source": [
    "synthia_depthv = synthia_depth_val\n",
    "synthia_rgbv =  synthia_rgb_val"
   ]
  },
  {
   "cell_type": "code",
   "execution_count": null,
   "metadata": {},
   "outputs": [],
   "source": [
    "\n",
    "bs = 5\n",
    "val_loss_l1 = 0\n",
    "val_loss_l2 = 0\n",
    "val_b = len(synthia_rgbv)/bs\n",
    "batch_it = tqdm(SynthiaIterator(synthia_rgbv, synthia_depthv, \n",
    "                                batchsize=bs, \n",
    "                                shuffle=True, \n",
    "                                buffer_size = 70), \n",
    "                total=val_b, \n",
    "                leave=False)\n",
    "vals = []\n",
    "rmse = []\n",
    "ssim = []\n",
    "for xb, yb in batch_it:\n",
    "#for xb, yb, name in sy_gen(synthia_rgbv, synthia_depthv):\n",
    "    #z = np.zeros((1, *synthia_size, 1))\n",
    "    #z[:,::7,::7,:] = 1\n",
    "    #mask = np.concatenate([z]*bs)\n",
    "    #mask =  np.concatenate([get_mask(synthia_size, 0.17)]*bs)\n",
    "    mask = get_grad_mask(xb, synthia_size)\n",
    "    #plt.matshow(mask[0,:,:,0])\n",
    "    out = sess.run(G_output, feed_dict={input_rgb:xb, target:yb, mask_t:mask, d_flg:False})\n",
    "    res_gt = np.zeros((bs, *synthia_size))\n",
    "    for i in range(bs):\n",
    "        res_gt[i,:,:] = resize(np.log(yb[i,:,:,0] + 1e-6 ), synthia_size, preserve_range=True)\n",
    "        \n",
    "    score = np.abs((out[:,:,:,0] - res_gt)/(res_gt + 1e-6)).mean()\n",
    "    score_rms = np.sqrt(np.square((np.exp(out[:,:,:,0]) - np.exp(res_gt))).mean())\n",
    "    score_ssim = 0\n",
    "    for i in range(len(out)):\n",
    "        result = (out[i,:,:,0] - out[i,:,:,0].min())/(out[i,:,:,0].max() - out[i,:,:,0].min())\n",
    "        gt = (res_gt[i] - res_gt[i].min())/(res_gt[i].max() - res_gt[i].min())\n",
    "\n",
    "        score_ssim += compare_ssim(result.astype(np.float64), gt)\n",
    "    score_ssim /= len(out)\n",
    "    if score < 1.1:\n",
    "        ssim.append(score_ssim)\n",
    "        rmse.append(score_rms)\n",
    "    #if score > 0.2:\n",
    "        #print(score)\n",
    "        #pict = np.zeros((synthia_size[0], synthia_size[1]*3))\n",
    "        #for k in range(bs):\n",
    "            #pict[:,0:synthia_size[1]] = mask[i,:,:,0]*res_gt[i]\n",
    "            #pict[:,synthia_size[1]:synthia_size[1]*2] = out[i,:,:,0]\n",
    "            #pict[:,synthia_size[1]*2:synthia_size[1]*3] = res_gt[i]\n",
    "            #plt.figure()\n",
    "            #plt.matshow(pict)\n",
    "    vals.append(score)\n",
    "vals_filtered = [v for v in vals if v < 1.1 ]\n",
    "print(np.mean(vals_filtered))\n",
    "print(np.mean(vals))\n",
    "print(np.mean(rmse))"
   ]
  }
 ],
 "metadata": {
  "kernelspec": {
   "display_name": "Python 3",
   "language": "python",
   "name": "python3"
  },
  "language_info": {
   "codemirror_mode": {
    "name": "ipython",
    "version": 3
   },
   "file_extension": ".py",
   "mimetype": "text/x-python",
   "name": "python",
   "nbconvert_exporter": "python",
   "pygments_lexer": "ipython3",
   "version": "3.6.4"
  }
 },
 "nbformat": 4,
 "nbformat_minor": 2
}
